{
  "nbformat": 4,
  "nbformat_minor": 0,
  "metadata": {
    "colab": {
      "provenance": [],
      "authorship_tag": "ABX9TyOerdJ2YXHu4Z6RNgYjK60v",
      "include_colab_link": true
    },
    "kernelspec": {
      "name": "python3",
      "display_name": "Python 3"
    },
    "language_info": {
      "name": "python"
    }
  },
  "cells": [
    {
      "cell_type": "markdown",
      "metadata": {
        "id": "view-in-github",
        "colab_type": "text"
      },
      "source": [
        "<a href=\"https://colab.research.google.com/github/Carlosmario90/ISYS5002_Assesments/blob/main/Assessment_Weather_App_Final_ipynb.ipynb\" target=\"_parent\"><img src=\"https://colab.research.google.com/assets/colab-badge.svg\" alt=\"Open In Colab\"/></a>"
      ]
    },
    {
      "cell_type": "markdown",
      "source": [
        "# 📦 Setup and Configuration\n",
        "\n",
        "Import required packages and setup environment."
      ],
      "metadata": {
        "id": "xMF0H0XfQKlv"
      }
    },
    {
      "cell_type": "code",
      "execution_count": 18,
      "metadata": {
        "colab": {
          "base_uri": "https://localhost:8080/"
        },
        "id": "HlJnPLx9OsT2",
        "outputId": "03274a45-baae-4f21-a6f7-8eebb8e8d0a5"
      },
      "outputs": [
        {
          "output_type": "stream",
          "name": "stdout",
          "text": [
            "Requirement already satisfied: pyinputplus in /usr/local/lib/python3.11/dist-packages (0.2.12)\n",
            "Requirement already satisfied: pysimplevalidate>=0.2.7 in /usr/local/lib/python3.11/dist-packages (from pyinputplus) (0.2.12)\n",
            "Requirement already satisfied: stdiomask>=0.0.3 in /usr/local/lib/python3.11/dist-packages (from pyinputplus) (0.0.6)\n",
            "Requirement already satisfied: ipywidgets in /usr/local/lib/python3.11/dist-packages (7.7.1)\n",
            "Requirement already satisfied: pandas in /usr/local/lib/python3.11/dist-packages (2.2.2)\n",
            "Requirement already satisfied: matplotlib in /usr/local/lib/python3.11/dist-packages (3.10.0)\n",
            "Requirement already satisfied: ipykernel>=4.5.1 in /usr/local/lib/python3.11/dist-packages (from ipywidgets) (6.17.1)\n",
            "Requirement already satisfied: ipython-genutils~=0.2.0 in /usr/local/lib/python3.11/dist-packages (from ipywidgets) (0.2.0)\n",
            "Requirement already satisfied: traitlets>=4.3.1 in /usr/local/lib/python3.11/dist-packages (from ipywidgets) (5.7.1)\n",
            "Requirement already satisfied: widgetsnbextension~=3.6.0 in /usr/local/lib/python3.11/dist-packages (from ipywidgets) (3.6.10)\n",
            "Requirement already satisfied: ipython>=4.0.0 in /usr/local/lib/python3.11/dist-packages (from ipywidgets) (7.34.0)\n",
            "Requirement already satisfied: jupyterlab-widgets>=1.0.0 in /usr/local/lib/python3.11/dist-packages (from ipywidgets) (3.0.15)\n",
            "Requirement already satisfied: numpy>=1.23.2 in /usr/local/lib/python3.11/dist-packages (from pandas) (2.0.2)\n",
            "Requirement already satisfied: python-dateutil>=2.8.2 in /usr/local/lib/python3.11/dist-packages (from pandas) (2.9.0.post0)\n",
            "Requirement already satisfied: pytz>=2020.1 in /usr/local/lib/python3.11/dist-packages (from pandas) (2025.2)\n",
            "Requirement already satisfied: tzdata>=2022.7 in /usr/local/lib/python3.11/dist-packages (from pandas) (2025.2)\n",
            "Requirement already satisfied: contourpy>=1.0.1 in /usr/local/lib/python3.11/dist-packages (from matplotlib) (1.3.2)\n",
            "Requirement already satisfied: cycler>=0.10 in /usr/local/lib/python3.11/dist-packages (from matplotlib) (0.12.1)\n",
            "Requirement already satisfied: fonttools>=4.22.0 in /usr/local/lib/python3.11/dist-packages (from matplotlib) (4.58.0)\n",
            "Requirement already satisfied: kiwisolver>=1.3.1 in /usr/local/lib/python3.11/dist-packages (from matplotlib) (1.4.8)\n",
            "Requirement already satisfied: packaging>=20.0 in /usr/local/lib/python3.11/dist-packages (from matplotlib) (24.2)\n",
            "Requirement already satisfied: pillow>=8 in /usr/local/lib/python3.11/dist-packages (from matplotlib) (11.2.1)\n",
            "Requirement already satisfied: pyparsing>=2.3.1 in /usr/local/lib/python3.11/dist-packages (from matplotlib) (3.2.3)\n",
            "Requirement already satisfied: debugpy>=1.0 in /usr/local/lib/python3.11/dist-packages (from ipykernel>=4.5.1->ipywidgets) (1.8.0)\n",
            "Requirement already satisfied: jupyter-client>=6.1.12 in /usr/local/lib/python3.11/dist-packages (from ipykernel>=4.5.1->ipywidgets) (6.1.12)\n",
            "Requirement already satisfied: matplotlib-inline>=0.1 in /usr/local/lib/python3.11/dist-packages (from ipykernel>=4.5.1->ipywidgets) (0.1.7)\n",
            "Requirement already satisfied: nest-asyncio in /usr/local/lib/python3.11/dist-packages (from ipykernel>=4.5.1->ipywidgets) (1.6.0)\n",
            "Requirement already satisfied: psutil in /usr/local/lib/python3.11/dist-packages (from ipykernel>=4.5.1->ipywidgets) (5.9.5)\n",
            "Requirement already satisfied: pyzmq>=17 in /usr/local/lib/python3.11/dist-packages (from ipykernel>=4.5.1->ipywidgets) (24.0.1)\n",
            "Requirement already satisfied: tornado>=6.1 in /usr/local/lib/python3.11/dist-packages (from ipykernel>=4.5.1->ipywidgets) (6.4.2)\n",
            "Requirement already satisfied: setuptools>=18.5 in /usr/local/lib/python3.11/dist-packages (from ipython>=4.0.0->ipywidgets) (75.2.0)\n",
            "Requirement already satisfied: jedi>=0.16 in /usr/local/lib/python3.11/dist-packages (from ipython>=4.0.0->ipywidgets) (0.19.2)\n",
            "Requirement already satisfied: decorator in /usr/local/lib/python3.11/dist-packages (from ipython>=4.0.0->ipywidgets) (4.4.2)\n",
            "Requirement already satisfied: pickleshare in /usr/local/lib/python3.11/dist-packages (from ipython>=4.0.0->ipywidgets) (0.7.5)\n",
            "Requirement already satisfied: prompt-toolkit!=3.0.0,!=3.0.1,<3.1.0,>=2.0.0 in /usr/local/lib/python3.11/dist-packages (from ipython>=4.0.0->ipywidgets) (3.0.51)\n",
            "Requirement already satisfied: pygments in /usr/local/lib/python3.11/dist-packages (from ipython>=4.0.0->ipywidgets) (2.19.1)\n",
            "Requirement already satisfied: backcall in /usr/local/lib/python3.11/dist-packages (from ipython>=4.0.0->ipywidgets) (0.2.0)\n",
            "Requirement already satisfied: pexpect>4.3 in /usr/local/lib/python3.11/dist-packages (from ipython>=4.0.0->ipywidgets) (4.9.0)\n",
            "Requirement already satisfied: six>=1.5 in /usr/local/lib/python3.11/dist-packages (from python-dateutil>=2.8.2->pandas) (1.17.0)\n",
            "Requirement already satisfied: notebook>=4.4.1 in /usr/local/lib/python3.11/dist-packages (from widgetsnbextension~=3.6.0->ipywidgets) (6.5.7)\n",
            "Requirement already satisfied: parso<0.9.0,>=0.8.4 in /usr/local/lib/python3.11/dist-packages (from jedi>=0.16->ipython>=4.0.0->ipywidgets) (0.8.4)\n",
            "Requirement already satisfied: jupyter-core>=4.6.0 in /usr/local/lib/python3.11/dist-packages (from jupyter-client>=6.1.12->ipykernel>=4.5.1->ipywidgets) (5.7.2)\n",
            "Requirement already satisfied: jinja2 in /usr/local/lib/python3.11/dist-packages (from notebook>=4.4.1->widgetsnbextension~=3.6.0->ipywidgets) (3.1.6)\n",
            "Requirement already satisfied: argon2-cffi in /usr/local/lib/python3.11/dist-packages (from notebook>=4.4.1->widgetsnbextension~=3.6.0->ipywidgets) (23.1.0)\n",
            "Requirement already satisfied: nbformat in /usr/local/lib/python3.11/dist-packages (from notebook>=4.4.1->widgetsnbextension~=3.6.0->ipywidgets) (5.10.4)\n",
            "Requirement already satisfied: nbconvert>=5 in /usr/local/lib/python3.11/dist-packages (from notebook>=4.4.1->widgetsnbextension~=3.6.0->ipywidgets) (7.16.6)\n",
            "Requirement already satisfied: Send2Trash>=1.8.0 in /usr/local/lib/python3.11/dist-packages (from notebook>=4.4.1->widgetsnbextension~=3.6.0->ipywidgets) (1.8.3)\n",
            "Requirement already satisfied: terminado>=0.8.3 in /usr/local/lib/python3.11/dist-packages (from notebook>=4.4.1->widgetsnbextension~=3.6.0->ipywidgets) (0.18.1)\n",
            "Requirement already satisfied: prometheus-client in /usr/local/lib/python3.11/dist-packages (from notebook>=4.4.1->widgetsnbextension~=3.6.0->ipywidgets) (0.21.1)\n",
            "Requirement already satisfied: nbclassic>=0.4.7 in /usr/local/lib/python3.11/dist-packages (from notebook>=4.4.1->widgetsnbextension~=3.6.0->ipywidgets) (1.3.1)\n",
            "Requirement already satisfied: ptyprocess>=0.5 in /usr/local/lib/python3.11/dist-packages (from pexpect>4.3->ipython>=4.0.0->ipywidgets) (0.7.0)\n",
            "Requirement already satisfied: wcwidth in /usr/local/lib/python3.11/dist-packages (from prompt-toolkit!=3.0.0,!=3.0.1,<3.1.0,>=2.0.0->ipython>=4.0.0->ipywidgets) (0.2.13)\n",
            "Requirement already satisfied: platformdirs>=2.5 in /usr/local/lib/python3.11/dist-packages (from jupyter-core>=4.6.0->jupyter-client>=6.1.12->ipykernel>=4.5.1->ipywidgets) (4.3.8)\n",
            "Requirement already satisfied: notebook-shim>=0.2.3 in /usr/local/lib/python3.11/dist-packages (from nbclassic>=0.4.7->notebook>=4.4.1->widgetsnbextension~=3.6.0->ipywidgets) (0.2.4)\n",
            "Requirement already satisfied: beautifulsoup4 in /usr/local/lib/python3.11/dist-packages (from nbconvert>=5->notebook>=4.4.1->widgetsnbextension~=3.6.0->ipywidgets) (4.13.4)\n",
            "Requirement already satisfied: bleach!=5.0.0 in /usr/local/lib/python3.11/dist-packages (from bleach[css]!=5.0.0->nbconvert>=5->notebook>=4.4.1->widgetsnbextension~=3.6.0->ipywidgets) (6.2.0)\n",
            "Requirement already satisfied: defusedxml in /usr/local/lib/python3.11/dist-packages (from nbconvert>=5->notebook>=4.4.1->widgetsnbextension~=3.6.0->ipywidgets) (0.7.1)\n",
            "Requirement already satisfied: jupyterlab-pygments in /usr/local/lib/python3.11/dist-packages (from nbconvert>=5->notebook>=4.4.1->widgetsnbextension~=3.6.0->ipywidgets) (0.3.0)\n",
            "Requirement already satisfied: markupsafe>=2.0 in /usr/local/lib/python3.11/dist-packages (from nbconvert>=5->notebook>=4.4.1->widgetsnbextension~=3.6.0->ipywidgets) (3.0.2)\n",
            "Requirement already satisfied: mistune<4,>=2.0.3 in /usr/local/lib/python3.11/dist-packages (from nbconvert>=5->notebook>=4.4.1->widgetsnbextension~=3.6.0->ipywidgets) (3.1.3)\n",
            "Requirement already satisfied: nbclient>=0.5.0 in /usr/local/lib/python3.11/dist-packages (from nbconvert>=5->notebook>=4.4.1->widgetsnbextension~=3.6.0->ipywidgets) (0.10.2)\n",
            "Requirement already satisfied: pandocfilters>=1.4.1 in /usr/local/lib/python3.11/dist-packages (from nbconvert>=5->notebook>=4.4.1->widgetsnbextension~=3.6.0->ipywidgets) (1.5.1)\n",
            "Requirement already satisfied: fastjsonschema>=2.15 in /usr/local/lib/python3.11/dist-packages (from nbformat->notebook>=4.4.1->widgetsnbextension~=3.6.0->ipywidgets) (2.21.1)\n",
            "Requirement already satisfied: jsonschema>=2.6 in /usr/local/lib/python3.11/dist-packages (from nbformat->notebook>=4.4.1->widgetsnbextension~=3.6.0->ipywidgets) (4.23.0)\n",
            "Requirement already satisfied: argon2-cffi-bindings in /usr/local/lib/python3.11/dist-packages (from argon2-cffi->notebook>=4.4.1->widgetsnbextension~=3.6.0->ipywidgets) (21.2.0)\n",
            "Requirement already satisfied: webencodings in /usr/local/lib/python3.11/dist-packages (from bleach!=5.0.0->bleach[css]!=5.0.0->nbconvert>=5->notebook>=4.4.1->widgetsnbextension~=3.6.0->ipywidgets) (0.5.1)\n",
            "Requirement already satisfied: tinycss2<1.5,>=1.1.0 in /usr/local/lib/python3.11/dist-packages (from bleach[css]!=5.0.0->nbconvert>=5->notebook>=4.4.1->widgetsnbextension~=3.6.0->ipywidgets) (1.4.0)\n",
            "Requirement already satisfied: attrs>=22.2.0 in /usr/local/lib/python3.11/dist-packages (from jsonschema>=2.6->nbformat->notebook>=4.4.1->widgetsnbextension~=3.6.0->ipywidgets) (25.3.0)\n",
            "Requirement already satisfied: jsonschema-specifications>=2023.03.6 in /usr/local/lib/python3.11/dist-packages (from jsonschema>=2.6->nbformat->notebook>=4.4.1->widgetsnbextension~=3.6.0->ipywidgets) (2025.4.1)\n",
            "Requirement already satisfied: referencing>=0.28.4 in /usr/local/lib/python3.11/dist-packages (from jsonschema>=2.6->nbformat->notebook>=4.4.1->widgetsnbextension~=3.6.0->ipywidgets) (0.36.2)\n",
            "Requirement already satisfied: rpds-py>=0.7.1 in /usr/local/lib/python3.11/dist-packages (from jsonschema>=2.6->nbformat->notebook>=4.4.1->widgetsnbextension~=3.6.0->ipywidgets) (0.24.0)\n",
            "Requirement already satisfied: jupyter-server<3,>=1.8 in /usr/local/lib/python3.11/dist-packages (from notebook-shim>=0.2.3->nbclassic>=0.4.7->notebook>=4.4.1->widgetsnbextension~=3.6.0->ipywidgets) (1.16.0)\n",
            "Requirement already satisfied: cffi>=1.0.1 in /usr/local/lib/python3.11/dist-packages (from argon2-cffi-bindings->argon2-cffi->notebook>=4.4.1->widgetsnbextension~=3.6.0->ipywidgets) (1.17.1)\n",
            "Requirement already satisfied: soupsieve>1.2 in /usr/local/lib/python3.11/dist-packages (from beautifulsoup4->nbconvert>=5->notebook>=4.4.1->widgetsnbextension~=3.6.0->ipywidgets) (2.7)\n",
            "Requirement already satisfied: typing-extensions>=4.0.0 in /usr/local/lib/python3.11/dist-packages (from beautifulsoup4->nbconvert>=5->notebook>=4.4.1->widgetsnbextension~=3.6.0->ipywidgets) (4.13.2)\n",
            "Requirement already satisfied: pycparser in /usr/local/lib/python3.11/dist-packages (from cffi>=1.0.1->argon2-cffi-bindings->argon2-cffi->notebook>=4.4.1->widgetsnbextension~=3.6.0->ipywidgets) (2.22)\n",
            "Requirement already satisfied: anyio>=3.1.0 in /usr/local/lib/python3.11/dist-packages (from jupyter-server<3,>=1.8->notebook-shim>=0.2.3->nbclassic>=0.4.7->notebook>=4.4.1->widgetsnbextension~=3.6.0->ipywidgets) (4.9.0)\n",
            "Requirement already satisfied: websocket-client in /usr/local/lib/python3.11/dist-packages (from jupyter-server<3,>=1.8->notebook-shim>=0.2.3->nbclassic>=0.4.7->notebook>=4.4.1->widgetsnbextension~=3.6.0->ipywidgets) (1.8.0)\n",
            "Requirement already satisfied: idna>=2.8 in /usr/local/lib/python3.11/dist-packages (from anyio>=3.1.0->jupyter-server<3,>=1.8->notebook-shim>=0.2.3->nbclassic>=0.4.7->notebook>=4.4.1->widgetsnbextension~=3.6.0->ipywidgets) (3.10)\n",
            "Requirement already satisfied: sniffio>=1.1 in /usr/local/lib/python3.11/dist-packages (from anyio>=3.1.0->jupyter-server<3,>=1.8->notebook-shim>=0.2.3->nbclassic>=0.4.7->notebook>=4.4.1->widgetsnbextension~=3.6.0->ipywidgets) (1.3.1)\n",
            "Requirement already satisfied: fetch-my-weather in /usr/local/lib/python3.11/dist-packages (0.4.0)\n",
            "Requirement already satisfied: requests>=2.25.0 in /usr/local/lib/python3.11/dist-packages (from fetch-my-weather) (2.32.3)\n",
            "Requirement already satisfied: pydantic>=1.8.0 in /usr/local/lib/python3.11/dist-packages (from fetch-my-weather) (2.11.4)\n",
            "Requirement already satisfied: annotated-types>=0.6.0 in /usr/local/lib/python3.11/dist-packages (from pydantic>=1.8.0->fetch-my-weather) (0.7.0)\n",
            "Requirement already satisfied: pydantic-core==2.33.2 in /usr/local/lib/python3.11/dist-packages (from pydantic>=1.8.0->fetch-my-weather) (2.33.2)\n",
            "Requirement already satisfied: typing-extensions>=4.12.2 in /usr/local/lib/python3.11/dist-packages (from pydantic>=1.8.0->fetch-my-weather) (4.13.2)\n",
            "Requirement already satisfied: typing-inspection>=0.4.0 in /usr/local/lib/python3.11/dist-packages (from pydantic>=1.8.0->fetch-my-weather) (0.4.0)\n",
            "Requirement already satisfied: charset-normalizer<4,>=2 in /usr/local/lib/python3.11/dist-packages (from requests>=2.25.0->fetch-my-weather) (3.4.2)\n",
            "Requirement already satisfied: idna<4,>=2.5 in /usr/local/lib/python3.11/dist-packages (from requests>=2.25.0->fetch-my-weather) (3.10)\n",
            "Requirement already satisfied: urllib3<3,>=1.21.1 in /usr/local/lib/python3.11/dist-packages (from requests>=2.25.0->fetch-my-weather) (2.4.0)\n",
            "Requirement already satisfied: certifi>=2017.4.17 in /usr/local/lib/python3.11/dist-packages (from requests>=2.25.0->fetch-my-weather) (2025.4.26)\n",
            "Requirement already satisfied: hands-on-ai in /usr/local/lib/python3.11/dist-packages (0.1.10)\n",
            "Requirement already satisfied: requests in /usr/local/lib/python3.11/dist-packages (from hands-on-ai) (2.32.3)\n",
            "Requirement already satisfied: typer in /usr/local/lib/python3.11/dist-packages (from hands-on-ai) (0.15.3)\n",
            "Requirement already satisfied: python-fasthtml in /usr/local/lib/python3.11/dist-packages (from hands-on-ai) (0.12.18)\n",
            "Requirement already satisfied: python-docx in /usr/local/lib/python3.11/dist-packages (from hands-on-ai) (1.1.2)\n",
            "Requirement already satisfied: pymupdf in /usr/local/lib/python3.11/dist-packages (from hands-on-ai) (1.26.0)\n",
            "Requirement already satisfied: scikit-learn in /usr/local/lib/python3.11/dist-packages (from hands-on-ai) (1.6.1)\n",
            "Requirement already satisfied: numpy in /usr/local/lib/python3.11/dist-packages (from hands-on-ai) (2.0.2)\n",
            "Requirement already satisfied: lxml>=3.1.0 in /usr/local/lib/python3.11/dist-packages (from python-docx->hands-on-ai) (5.4.0)\n",
            "Requirement already satisfied: typing-extensions>=4.9.0 in /usr/local/lib/python3.11/dist-packages (from python-docx->hands-on-ai) (4.13.2)\n",
            "Requirement already satisfied: fastcore>=1.8.1 in /usr/local/lib/python3.11/dist-packages (from python-fasthtml->hands-on-ai) (1.8.2)\n",
            "Requirement already satisfied: python-dateutil in /usr/local/lib/python3.11/dist-packages (from python-fasthtml->hands-on-ai) (2.9.0.post0)\n",
            "Requirement already satisfied: starlette>0.33 in /usr/local/lib/python3.11/dist-packages (from python-fasthtml->hands-on-ai) (0.46.2)\n",
            "Requirement already satisfied: oauthlib in /usr/local/lib/python3.11/dist-packages (from python-fasthtml->hands-on-ai) (3.2.2)\n",
            "Requirement already satisfied: itsdangerous in /usr/local/lib/python3.11/dist-packages (from python-fasthtml->hands-on-ai) (2.2.0)\n",
            "Requirement already satisfied: uvicorn>=0.30 in /usr/local/lib/python3.11/dist-packages (from uvicorn[standard]>=0.30->python-fasthtml->hands-on-ai) (0.34.2)\n",
            "Requirement already satisfied: httpx in /usr/local/lib/python3.11/dist-packages (from python-fasthtml->hands-on-ai) (0.28.1)\n",
            "Requirement already satisfied: fastlite>=0.1.1 in /usr/local/lib/python3.11/dist-packages (from python-fasthtml->hands-on-ai) (0.1.3)\n",
            "Requirement already satisfied: python-multipart in /usr/local/lib/python3.11/dist-packages (from python-fasthtml->hands-on-ai) (0.0.20)\n",
            "Requirement already satisfied: beautifulsoup4 in /usr/local/lib/python3.11/dist-packages (from python-fasthtml->hands-on-ai) (4.13.4)\n",
            "Requirement already satisfied: charset-normalizer<4,>=2 in /usr/local/lib/python3.11/dist-packages (from requests->hands-on-ai) (3.4.2)\n",
            "Requirement already satisfied: idna<4,>=2.5 in /usr/local/lib/python3.11/dist-packages (from requests->hands-on-ai) (3.10)\n",
            "Requirement already satisfied: urllib3<3,>=1.21.1 in /usr/local/lib/python3.11/dist-packages (from requests->hands-on-ai) (2.4.0)\n",
            "Requirement already satisfied: certifi>=2017.4.17 in /usr/local/lib/python3.11/dist-packages (from requests->hands-on-ai) (2025.4.26)\n",
            "Requirement already satisfied: scipy>=1.6.0 in /usr/local/lib/python3.11/dist-packages (from scikit-learn->hands-on-ai) (1.15.3)\n",
            "Requirement already satisfied: joblib>=1.2.0 in /usr/local/lib/python3.11/dist-packages (from scikit-learn->hands-on-ai) (1.5.0)\n",
            "Requirement already satisfied: threadpoolctl>=3.1.0 in /usr/local/lib/python3.11/dist-packages (from scikit-learn->hands-on-ai) (3.6.0)\n",
            "Requirement already satisfied: click>=8.0.0 in /usr/local/lib/python3.11/dist-packages (from typer->hands-on-ai) (8.2.0)\n",
            "Requirement already satisfied: shellingham>=1.3.0 in /usr/local/lib/python3.11/dist-packages (from typer->hands-on-ai) (1.5.4)\n",
            "Requirement already satisfied: rich>=10.11.0 in /usr/local/lib/python3.11/dist-packages (from typer->hands-on-ai) (13.9.4)\n",
            "Requirement already satisfied: packaging in /usr/local/lib/python3.11/dist-packages (from fastcore>=1.8.1->python-fasthtml->hands-on-ai) (24.2)\n",
            "Requirement already satisfied: apswutils>=0.0.2 in /usr/local/lib/python3.11/dist-packages (from fastlite>=0.1.1->python-fasthtml->hands-on-ai) (0.0.2)\n",
            "Requirement already satisfied: markdown-it-py>=2.2.0 in /usr/local/lib/python3.11/dist-packages (from rich>=10.11.0->typer->hands-on-ai) (3.0.0)\n",
            "Requirement already satisfied: pygments<3.0.0,>=2.13.0 in /usr/local/lib/python3.11/dist-packages (from rich>=10.11.0->typer->hands-on-ai) (2.19.1)\n",
            "Requirement already satisfied: anyio<5,>=3.6.2 in /usr/local/lib/python3.11/dist-packages (from starlette>0.33->python-fasthtml->hands-on-ai) (4.9.0)\n",
            "Requirement already satisfied: h11>=0.8 in /usr/local/lib/python3.11/dist-packages (from uvicorn>=0.30->uvicorn[standard]>=0.30->python-fasthtml->hands-on-ai) (0.16.0)\n",
            "Requirement already satisfied: httptools>=0.6.3 in /usr/local/lib/python3.11/dist-packages (from uvicorn[standard]>=0.30->python-fasthtml->hands-on-ai) (0.6.4)\n",
            "Requirement already satisfied: python-dotenv>=0.13 in /usr/local/lib/python3.11/dist-packages (from uvicorn[standard]>=0.30->python-fasthtml->hands-on-ai) (1.1.0)\n",
            "Requirement already satisfied: pyyaml>=5.1 in /usr/local/lib/python3.11/dist-packages (from uvicorn[standard]>=0.30->python-fasthtml->hands-on-ai) (6.0.2)\n",
            "Requirement already satisfied: uvloop!=0.15.0,!=0.15.1,>=0.14.0 in /usr/local/lib/python3.11/dist-packages (from uvicorn[standard]>=0.30->python-fasthtml->hands-on-ai) (0.21.0)\n",
            "Requirement already satisfied: watchfiles>=0.13 in /usr/local/lib/python3.11/dist-packages (from uvicorn[standard]>=0.30->python-fasthtml->hands-on-ai) (1.0.5)\n",
            "Requirement already satisfied: websockets>=10.4 in /usr/local/lib/python3.11/dist-packages (from uvicorn[standard]>=0.30->python-fasthtml->hands-on-ai) (15.0.1)\n",
            "Requirement already satisfied: soupsieve>1.2 in /usr/local/lib/python3.11/dist-packages (from beautifulsoup4->python-fasthtml->hands-on-ai) (2.7)\n",
            "Requirement already satisfied: httpcore==1.* in /usr/local/lib/python3.11/dist-packages (from httpx->python-fasthtml->hands-on-ai) (1.0.9)\n",
            "Requirement already satisfied: six>=1.5 in /usr/local/lib/python3.11/dist-packages (from python-dateutil->python-fasthtml->hands-on-ai) (1.17.0)\n",
            "Requirement already satisfied: sniffio>=1.1 in /usr/local/lib/python3.11/dist-packages (from anyio<5,>=3.6.2->starlette>0.33->python-fasthtml->hands-on-ai) (1.3.1)\n",
            "Requirement already satisfied: apsw in /usr/local/lib/python3.11/dist-packages (from apswutils>=0.0.2->fastlite>=0.1.1->python-fasthtml->hands-on-ai) (3.49.2.0)\n",
            "Requirement already satisfied: mdurl~=0.1 in /usr/local/lib/python3.11/dist-packages (from markdown-it-py>=2.2.0->rich>=10.11.0->typer->hands-on-ai) (0.1.2)\n",
            "Requirement already satisfied: dateparser in /usr/local/lib/python3.11/dist-packages (1.2.1)\n",
            "Requirement already satisfied: python-dateutil>=2.7.0 in /usr/local/lib/python3.11/dist-packages (from dateparser) (2.9.0.post0)\n",
            "Requirement already satisfied: pytz>=2024.2 in /usr/local/lib/python3.11/dist-packages (from dateparser) (2025.2)\n",
            "Requirement already satisfied: regex!=2019.02.19,!=2021.8.27,>=2015.06.24 in /usr/local/lib/python3.11/dist-packages (from dateparser) (2024.11.6)\n",
            "Requirement already satisfied: tzlocal>=0.2 in /usr/local/lib/python3.11/dist-packages (from dateparser) (5.3.1)\n",
            "Requirement already satisfied: six>=1.5 in /usr/local/lib/python3.11/dist-packages (from python-dateutil>=2.7.0->dateparser) (1.17.0)\n",
            "Requirement already satisfied: ipywidgets in /usr/local/lib/python3.11/dist-packages (7.7.1)\n",
            "Requirement already satisfied: ipykernel>=4.5.1 in /usr/local/lib/python3.11/dist-packages (from ipywidgets) (6.17.1)\n",
            "Requirement already satisfied: ipython-genutils~=0.2.0 in /usr/local/lib/python3.11/dist-packages (from ipywidgets) (0.2.0)\n",
            "Requirement already satisfied: traitlets>=4.3.1 in /usr/local/lib/python3.11/dist-packages (from ipywidgets) (5.7.1)\n",
            "Requirement already satisfied: widgetsnbextension~=3.6.0 in /usr/local/lib/python3.11/dist-packages (from ipywidgets) (3.6.10)\n",
            "Requirement already satisfied: ipython>=4.0.0 in /usr/local/lib/python3.11/dist-packages (from ipywidgets) (7.34.0)\n",
            "Requirement already satisfied: jupyterlab-widgets>=1.0.0 in /usr/local/lib/python3.11/dist-packages (from ipywidgets) (3.0.15)\n",
            "Requirement already satisfied: debugpy>=1.0 in /usr/local/lib/python3.11/dist-packages (from ipykernel>=4.5.1->ipywidgets) (1.8.0)\n",
            "Requirement already satisfied: jupyter-client>=6.1.12 in /usr/local/lib/python3.11/dist-packages (from ipykernel>=4.5.1->ipywidgets) (6.1.12)\n",
            "Requirement already satisfied: matplotlib-inline>=0.1 in /usr/local/lib/python3.11/dist-packages (from ipykernel>=4.5.1->ipywidgets) (0.1.7)\n",
            "Requirement already satisfied: nest-asyncio in /usr/local/lib/python3.11/dist-packages (from ipykernel>=4.5.1->ipywidgets) (1.6.0)\n",
            "Requirement already satisfied: packaging in /usr/local/lib/python3.11/dist-packages (from ipykernel>=4.5.1->ipywidgets) (24.2)\n",
            "Requirement already satisfied: psutil in /usr/local/lib/python3.11/dist-packages (from ipykernel>=4.5.1->ipywidgets) (5.9.5)\n",
            "Requirement already satisfied: pyzmq>=17 in /usr/local/lib/python3.11/dist-packages (from ipykernel>=4.5.1->ipywidgets) (24.0.1)\n",
            "Requirement already satisfied: tornado>=6.1 in /usr/local/lib/python3.11/dist-packages (from ipykernel>=4.5.1->ipywidgets) (6.4.2)\n",
            "Requirement already satisfied: setuptools>=18.5 in /usr/local/lib/python3.11/dist-packages (from ipython>=4.0.0->ipywidgets) (75.2.0)\n",
            "Requirement already satisfied: jedi>=0.16 in /usr/local/lib/python3.11/dist-packages (from ipython>=4.0.0->ipywidgets) (0.19.2)\n",
            "Requirement already satisfied: decorator in /usr/local/lib/python3.11/dist-packages (from ipython>=4.0.0->ipywidgets) (4.4.2)\n",
            "Requirement already satisfied: pickleshare in /usr/local/lib/python3.11/dist-packages (from ipython>=4.0.0->ipywidgets) (0.7.5)\n",
            "Requirement already satisfied: prompt-toolkit!=3.0.0,!=3.0.1,<3.1.0,>=2.0.0 in /usr/local/lib/python3.11/dist-packages (from ipython>=4.0.0->ipywidgets) (3.0.51)\n",
            "Requirement already satisfied: pygments in /usr/local/lib/python3.11/dist-packages (from ipython>=4.0.0->ipywidgets) (2.19.1)\n",
            "Requirement already satisfied: backcall in /usr/local/lib/python3.11/dist-packages (from ipython>=4.0.0->ipywidgets) (0.2.0)\n",
            "Requirement already satisfied: pexpect>4.3 in /usr/local/lib/python3.11/dist-packages (from ipython>=4.0.0->ipywidgets) (4.9.0)\n",
            "Requirement already satisfied: notebook>=4.4.1 in /usr/local/lib/python3.11/dist-packages (from widgetsnbextension~=3.6.0->ipywidgets) (6.5.7)\n",
            "Requirement already satisfied: parso<0.9.0,>=0.8.4 in /usr/local/lib/python3.11/dist-packages (from jedi>=0.16->ipython>=4.0.0->ipywidgets) (0.8.4)\n",
            "Requirement already satisfied: jupyter-core>=4.6.0 in /usr/local/lib/python3.11/dist-packages (from jupyter-client>=6.1.12->ipykernel>=4.5.1->ipywidgets) (5.7.2)\n",
            "Requirement already satisfied: python-dateutil>=2.1 in /usr/local/lib/python3.11/dist-packages (from jupyter-client>=6.1.12->ipykernel>=4.5.1->ipywidgets) (2.9.0.post0)\n",
            "Requirement already satisfied: jinja2 in /usr/local/lib/python3.11/dist-packages (from notebook>=4.4.1->widgetsnbextension~=3.6.0->ipywidgets) (3.1.6)\n",
            "Requirement already satisfied: argon2-cffi in /usr/local/lib/python3.11/dist-packages (from notebook>=4.4.1->widgetsnbextension~=3.6.0->ipywidgets) (23.1.0)\n",
            "Requirement already satisfied: nbformat in /usr/local/lib/python3.11/dist-packages (from notebook>=4.4.1->widgetsnbextension~=3.6.0->ipywidgets) (5.10.4)\n",
            "Requirement already satisfied: nbconvert>=5 in /usr/local/lib/python3.11/dist-packages (from notebook>=4.4.1->widgetsnbextension~=3.6.0->ipywidgets) (7.16.6)\n",
            "Requirement already satisfied: Send2Trash>=1.8.0 in /usr/local/lib/python3.11/dist-packages (from notebook>=4.4.1->widgetsnbextension~=3.6.0->ipywidgets) (1.8.3)\n",
            "Requirement already satisfied: terminado>=0.8.3 in /usr/local/lib/python3.11/dist-packages (from notebook>=4.4.1->widgetsnbextension~=3.6.0->ipywidgets) (0.18.1)\n",
            "Requirement already satisfied: prometheus-client in /usr/local/lib/python3.11/dist-packages (from notebook>=4.4.1->widgetsnbextension~=3.6.0->ipywidgets) (0.21.1)\n",
            "Requirement already satisfied: nbclassic>=0.4.7 in /usr/local/lib/python3.11/dist-packages (from notebook>=4.4.1->widgetsnbextension~=3.6.0->ipywidgets) (1.3.1)\n",
            "Requirement already satisfied: ptyprocess>=0.5 in /usr/local/lib/python3.11/dist-packages (from pexpect>4.3->ipython>=4.0.0->ipywidgets) (0.7.0)\n",
            "Requirement already satisfied: wcwidth in /usr/local/lib/python3.11/dist-packages (from prompt-toolkit!=3.0.0,!=3.0.1,<3.1.0,>=2.0.0->ipython>=4.0.0->ipywidgets) (0.2.13)\n",
            "Requirement already satisfied: platformdirs>=2.5 in /usr/local/lib/python3.11/dist-packages (from jupyter-core>=4.6.0->jupyter-client>=6.1.12->ipykernel>=4.5.1->ipywidgets) (4.3.8)\n",
            "Requirement already satisfied: notebook-shim>=0.2.3 in /usr/local/lib/python3.11/dist-packages (from nbclassic>=0.4.7->notebook>=4.4.1->widgetsnbextension~=3.6.0->ipywidgets) (0.2.4)\n",
            "Requirement already satisfied: beautifulsoup4 in /usr/local/lib/python3.11/dist-packages (from nbconvert>=5->notebook>=4.4.1->widgetsnbextension~=3.6.0->ipywidgets) (4.13.4)\n",
            "Requirement already satisfied: bleach!=5.0.0 in /usr/local/lib/python3.11/dist-packages (from bleach[css]!=5.0.0->nbconvert>=5->notebook>=4.4.1->widgetsnbextension~=3.6.0->ipywidgets) (6.2.0)\n",
            "Requirement already satisfied: defusedxml in /usr/local/lib/python3.11/dist-packages (from nbconvert>=5->notebook>=4.4.1->widgetsnbextension~=3.6.0->ipywidgets) (0.7.1)\n",
            "Requirement already satisfied: jupyterlab-pygments in /usr/local/lib/python3.11/dist-packages (from nbconvert>=5->notebook>=4.4.1->widgetsnbextension~=3.6.0->ipywidgets) (0.3.0)\n",
            "Requirement already satisfied: markupsafe>=2.0 in /usr/local/lib/python3.11/dist-packages (from nbconvert>=5->notebook>=4.4.1->widgetsnbextension~=3.6.0->ipywidgets) (3.0.2)\n",
            "Requirement already satisfied: mistune<4,>=2.0.3 in /usr/local/lib/python3.11/dist-packages (from nbconvert>=5->notebook>=4.4.1->widgetsnbextension~=3.6.0->ipywidgets) (3.1.3)\n",
            "Requirement already satisfied: nbclient>=0.5.0 in /usr/local/lib/python3.11/dist-packages (from nbconvert>=5->notebook>=4.4.1->widgetsnbextension~=3.6.0->ipywidgets) (0.10.2)\n",
            "Requirement already satisfied: pandocfilters>=1.4.1 in /usr/local/lib/python3.11/dist-packages (from nbconvert>=5->notebook>=4.4.1->widgetsnbextension~=3.6.0->ipywidgets) (1.5.1)\n",
            "Requirement already satisfied: fastjsonschema>=2.15 in /usr/local/lib/python3.11/dist-packages (from nbformat->notebook>=4.4.1->widgetsnbextension~=3.6.0->ipywidgets) (2.21.1)\n",
            "Requirement already satisfied: jsonschema>=2.6 in /usr/local/lib/python3.11/dist-packages (from nbformat->notebook>=4.4.1->widgetsnbextension~=3.6.0->ipywidgets) (4.23.0)\n",
            "Requirement already satisfied: six>=1.5 in /usr/local/lib/python3.11/dist-packages (from python-dateutil>=2.1->jupyter-client>=6.1.12->ipykernel>=4.5.1->ipywidgets) (1.17.0)\n",
            "Requirement already satisfied: argon2-cffi-bindings in /usr/local/lib/python3.11/dist-packages (from argon2-cffi->notebook>=4.4.1->widgetsnbextension~=3.6.0->ipywidgets) (21.2.0)\n",
            "Requirement already satisfied: webencodings in /usr/local/lib/python3.11/dist-packages (from bleach!=5.0.0->bleach[css]!=5.0.0->nbconvert>=5->notebook>=4.4.1->widgetsnbextension~=3.6.0->ipywidgets) (0.5.1)\n",
            "Requirement already satisfied: tinycss2<1.5,>=1.1.0 in /usr/local/lib/python3.11/dist-packages (from bleach[css]!=5.0.0->nbconvert>=5->notebook>=4.4.1->widgetsnbextension~=3.6.0->ipywidgets) (1.4.0)\n",
            "Requirement already satisfied: attrs>=22.2.0 in /usr/local/lib/python3.11/dist-packages (from jsonschema>=2.6->nbformat->notebook>=4.4.1->widgetsnbextension~=3.6.0->ipywidgets) (25.3.0)\n",
            "Requirement already satisfied: jsonschema-specifications>=2023.03.6 in /usr/local/lib/python3.11/dist-packages (from jsonschema>=2.6->nbformat->notebook>=4.4.1->widgetsnbextension~=3.6.0->ipywidgets) (2025.4.1)\n",
            "Requirement already satisfied: referencing>=0.28.4 in /usr/local/lib/python3.11/dist-packages (from jsonschema>=2.6->nbformat->notebook>=4.4.1->widgetsnbextension~=3.6.0->ipywidgets) (0.36.2)\n",
            "Requirement already satisfied: rpds-py>=0.7.1 in /usr/local/lib/python3.11/dist-packages (from jsonschema>=2.6->nbformat->notebook>=4.4.1->widgetsnbextension~=3.6.0->ipywidgets) (0.24.0)\n",
            "Requirement already satisfied: jupyter-server<3,>=1.8 in /usr/local/lib/python3.11/dist-packages (from notebook-shim>=0.2.3->nbclassic>=0.4.7->notebook>=4.4.1->widgetsnbextension~=3.6.0->ipywidgets) (1.16.0)\n",
            "Requirement already satisfied: cffi>=1.0.1 in /usr/local/lib/python3.11/dist-packages (from argon2-cffi-bindings->argon2-cffi->notebook>=4.4.1->widgetsnbextension~=3.6.0->ipywidgets) (1.17.1)\n",
            "Requirement already satisfied: soupsieve>1.2 in /usr/local/lib/python3.11/dist-packages (from beautifulsoup4->nbconvert>=5->notebook>=4.4.1->widgetsnbextension~=3.6.0->ipywidgets) (2.7)\n",
            "Requirement already satisfied: typing-extensions>=4.0.0 in /usr/local/lib/python3.11/dist-packages (from beautifulsoup4->nbconvert>=5->notebook>=4.4.1->widgetsnbextension~=3.6.0->ipywidgets) (4.13.2)\n",
            "Requirement already satisfied: pycparser in /usr/local/lib/python3.11/dist-packages (from cffi>=1.0.1->argon2-cffi-bindings->argon2-cffi->notebook>=4.4.1->widgetsnbextension~=3.6.0->ipywidgets) (2.22)\n",
            "Requirement already satisfied: anyio>=3.1.0 in /usr/local/lib/python3.11/dist-packages (from jupyter-server<3,>=1.8->notebook-shim>=0.2.3->nbclassic>=0.4.7->notebook>=4.4.1->widgetsnbextension~=3.6.0->ipywidgets) (4.9.0)\n",
            "Requirement already satisfied: websocket-client in /usr/local/lib/python3.11/dist-packages (from jupyter-server<3,>=1.8->notebook-shim>=0.2.3->nbclassic>=0.4.7->notebook>=4.4.1->widgetsnbextension~=3.6.0->ipywidgets) (1.8.0)\n",
            "Requirement already satisfied: idna>=2.8 in /usr/local/lib/python3.11/dist-packages (from anyio>=3.1.0->jupyter-server<3,>=1.8->notebook-shim>=0.2.3->nbclassic>=0.4.7->notebook>=4.4.1->widgetsnbextension~=3.6.0->ipywidgets) (3.10)\n",
            "Requirement already satisfied: sniffio>=1.1 in /usr/local/lib/python3.11/dist-packages (from anyio>=3.1.0->jupyter-server<3,>=1.8->notebook-shim>=0.2.3->nbclassic>=0.4.7->notebook>=4.4.1->widgetsnbextension~=3.6.0->ipywidgets) (1.3.1)\n"
          ]
        }
      ],
      "source": [
        "!pip install pyinputplus\n",
        "import matplotlib.pyplot as plt\n",
        "import pyinputplus as pyip\n",
        "import pytz\n",
        "!pip install ipywidgets pandas matplotlib\n",
        "\n",
        "!pip install fetch-my-weather\n",
        "import fetch_my_weather\n",
        "from fetch_my_weather import get_weather\n",
        "\n",
        "!pip install hands-on-ai\n",
        "from hands_on_ai.chat import get_response\n",
        "import requests\n",
        "\n",
        "!pip install dateparser\n",
        "import dateparser\n",
        "import re\n",
        "from datetime import datetime, timedelta\n",
        "\n",
        "# Set your timezone — change 'Australia/Perth' or 'Australia/Sydney' as needed\n",
        "local_tz = pytz.timezone('Australia/Perth')\n",
        "today = datetime.now(local_tz).date()\n",
        "\n",
        "!pip install ipywidgets\n",
        "from ipywidgets import widgets, VBox, HBox, Output, Button, ToggleButtons, Layout, Label, HTML\n",
        "from IPython.display import display, clear_output\n",
        "import pandas as pd\n",
        "import matplotlib.pyplot as plt\n",
        "\n"
      ]
    },
    {
      "cell_type": "markdown",
      "source": [],
      "metadata": {
        "id": "NlA5jaxIR172"
      }
    },
    {
      "cell_type": "markdown",
      "source": [
        "## **Section 1 - 🌤️ Weather Data Functions**"
      ],
      "metadata": {
        "id": "OWPCoJFvR8L7"
      }
    },
    {
      "cell_type": "markdown",
      "source": [
        "This section handles the retrieval and processing of weather data for a given location.\n",
        "\n",
        "The function extracts:\n",
        "\n",
        "📍 Current weather conditions (temperature, humidity, windspeed)\n",
        "\n",
        "📆 Multi-day forecast including temperature ranges, precipitation, sunrise/sunset, and other"
      ],
      "metadata": {
        "id": "3KIfniGHR31D"
      }
    },
    {
      "cell_type": "code",
      "source": [
        "import requests\n",
        "\n",
        "def get_weather_data(location, forecast_days=3):\n",
        "    api_key = \"d711e3dbb30d0f15366c4fd0905c5863\".strip()\n",
        "    url = f\"http://api.openweathermap.org/data/2.5/forecast?q={location}&units=metric&appid={api_key}\"\n",
        "\n",
        "    response = requests.get(url)\n",
        "    if response.status_code != 200:\n",
        "        raise Exception(f\"API error: {response.status_code}\\n{response.text}\")\n",
        "\n",
        "    data = response.json()\n",
        "    city_name = data[\"city\"][\"name\"]\n",
        "\n",
        "    # 3-hour interval forecasts (8 per day), we'll select only 1 per day (around noon)\n",
        "    daily_forecast = []\n",
        "    seen_dates = set()\n",
        "\n",
        "    for entry in data[\"list\"]:\n",
        "      date, time = entry[\"dt_txt\"].split()\n",
        "      hour = int(time.split(\":\")[0])\n",
        "\n",
        "      if date not in seen_dates and 11 <= hour <= 14:\n",
        "        seen_dates.add(date)\n",
        "        daily_forecast.append({\n",
        "            \"date\": date,\n",
        "            \"max_temp_C\": entry[\"main\"][\"temp_max\"],\n",
        "            \"min_temp_C\": entry[\"main\"][\"temp_min\"],\n",
        "            \"avg_temp_C\": entry[\"main\"][\"temp\"],\n",
        "            \"humidity\": entry[\"main\"][\"humidity\"],\n",
        "            \"condition\": entry[\"weather\"][0][\"description\"],\n",
        "            \"windspeed_kmph\": entry[\"wind\"][\"speed\"],\n",
        "            \"precipMM\": entry.get(\"rain\", {}).get(\"3h\", 0.0),\n",
        "            \"sunrise\": data[\"city\"].get(\"sunrise\", \"N/A\"),\n",
        "            \"sunset\": data[\"city\"].get(\"sunset\", \"N/A\")\n",
        "        })\n",
        "\n",
        "        if len(daily_forecast) >= forecast_days:\n",
        "          break\n",
        "\n",
        "    current = data[\"list\"][0]  # First entry is current-ish\n",
        "\n",
        "    return {\n",
        "        \"location\": city_name,\n",
        "        \"current_conditions\": {\n",
        "            \"temperature_C\": current[\"main\"][\"temp\"],\n",
        "            \"humidity\": current[\"main\"][\"humidity\"],\n",
        "            \"windspeed_kmph\": current[\"wind\"][\"speed\"],\n",
        "            \"weather\": current[\"weather\"][0][\"description\"]\n",
        "        },\n",
        "        \"forecast\": daily_forecast\n",
        "    }"
      ],
      "metadata": {
        "id": "7xqc9LphSD9-"
      },
      "execution_count": 39,
      "outputs": []
    },
    {
      "cell_type": "markdown",
      "source": [
        "🌤️Testing Weather data functions"
      ],
      "metadata": {
        "id": "PZkRPSIeVkKQ"
      }
    },
    {
      "cell_type": "code",
      "source": [
        "weather = get_weather_data(\"Perth\", forecast_days=3)\n",
        "from pprint import pprint\n",
        "pprint(weather)"
      ],
      "metadata": {
        "colab": {
          "base_uri": "https://localhost:8080/"
        },
        "id": "q5bAGMZsSO7j",
        "outputId": "adb819df-6ff0-45e0-f1bb-0d88a45546e4"
      },
      "execution_count": 53,
      "outputs": [
        {
          "output_type": "stream",
          "name": "stdout",
          "text": [
            "{'current_conditions': {'humidity': 63,\n",
            "                        'temperature_C': 13.7,\n",
            "                        'weather': 'scattered clouds',\n",
            "                        'windspeed_kmph': 4.87},\n",
            " 'forecast': [{'avg_temp_C': 13.7,\n",
            "               'condition': 'scattered clouds',\n",
            "               'date': '2025-05-23',\n",
            "               'humidity': 63,\n",
            "               'max_temp_C': 14.05,\n",
            "               'min_temp_C': 13.7,\n",
            "               'precipMM': 0.0,\n",
            "               'sunrise': 1747954999,\n",
            "               'sunset': 1747992227,\n",
            "               'windspeed_kmph': 4.87},\n",
            "              {'avg_temp_C': 14.6,\n",
            "               'condition': 'light rain',\n",
            "               'date': '2025-05-24',\n",
            "               'humidity': 67,\n",
            "               'max_temp_C': 14.6,\n",
            "               'min_temp_C': 14.6,\n",
            "               'precipMM': 0.3,\n",
            "               'sunrise': 1747954999,\n",
            "               'sunset': 1747992227,\n",
            "               'windspeed_kmph': 0.23},\n",
            "              {'avg_temp_C': 14.79,\n",
            "               'condition': 'scattered clouds',\n",
            "               'date': '2025-05-25',\n",
            "               'humidity': 70,\n",
            "               'max_temp_C': 14.79,\n",
            "               'min_temp_C': 14.79,\n",
            "               'precipMM': 0.0,\n",
            "               'sunrise': 1747954999,\n",
            "               'sunset': 1747992227,\n",
            "               'windspeed_kmph': 3.63}],\n",
            " 'location': 'Perth'}\n"
          ]
        }
      ]
    },
    {
      "cell_type": "markdown",
      "source": [
        "# **Section 2 - 📊 Visualisation Functions**"
      ],
      "metadata": {
        "id": "_HiNjZQYWLX3"
      }
    },
    {
      "cell_type": "markdown",
      "source": [
        "This section contains functions that generate graphical representations of the weather forecast data. These visualisations help users quickly understand expected weather conditions over multiple days.\n",
        "\n",
        "Included visualisations:\n",
        "\n",
        "🌧 Precipitation: A bar chart displaying the forecasted amount of rainfall (in mm) for each day.\n",
        "\n",
        "🌡 Temperature: A line chart showing minimum, maximum, and average temperatures (°C) for the selected location over the forecast period."
      ],
      "metadata": {
        "id": "rds6FKrpWNsu"
      }
    },
    {
      "cell_type": "code",
      "source": [
        "def create_precipitation_visualisation(weather_data, output_type='display'):\n",
        "    dates = []\n",
        "    precipitation = []\n",
        "\n",
        "    for day in weather_data.get(\"forecast\", []):\n",
        "        dates.append(day.get(\"date\"))\n",
        "        precip = float(day.get(\"precipMM\", \"0\") or \"0\")\n",
        "        precipitation.append(precip)\n",
        "\n",
        "    print(\"Dates:\", dates)\n",
        "    print(\"Precipitation values:\", precipitation)\n",
        "\n",
        "    if all(p == 0.0 for p in precipitation):\n",
        "        print(\"⚠️ No measurable precipitation in forecast — graph may look blank.\")\n",
        "\n",
        "    fig, ax = plt.subplots()\n",
        "    ax.bar(dates, precipitation)\n",
        "    ax.set_title(\"Daily Precipitation Forecast\")\n",
        "    ax.set_xlabel(\"Date\")\n",
        "    ax.set_ylabel(\"Precipitation (mm)\")\n",
        "    plt.xticks(rotation=45)\n",
        "    plt.tight_layout()\n",
        "\n",
        "    if output_type == 'figure':\n",
        "        return fig\n",
        "    else:\n",
        "        plt.show()"
      ],
      "metadata": {
        "id": "M-Y0bsCMWMba"
      },
      "execution_count": 49,
      "outputs": []
    },
    {
      "cell_type": "code",
      "source": [
        "weather = get_weather_data(\"Perth\", forecast_days=5)\n",
        "create_precipitation_visualisation(weather)"
      ],
      "metadata": {
        "colab": {
          "base_uri": "https://localhost:8080/",
          "height": 522
        },
        "id": "qJARnFSEWzC-",
        "outputId": "517c2580-2fb3-4adb-964f-df354318e8ce"
      },
      "execution_count": 52,
      "outputs": [
        {
          "output_type": "stream",
          "name": "stdout",
          "text": [
            "Dates: ['2025-05-23', '2025-05-24', '2025-05-25', '2025-05-26', '2025-05-27']\n",
            "Precipitation values: [0.0, 0.3, 0.0, 0.0, 0.0]\n"
          ]
        },
        {
          "output_type": "display_data",
          "data": {
            "text/plain": [
              "<Figure size 640x480 with 1 Axes>"
            ],
            "image/png": "[encoded data removed]"
          },
          "metadata": {}
        }
      ]
    },
    {
      "cell_type": "markdown",
      "source": [
        "Temperatature Chart"
      ],
      "metadata": {
        "id": "m1tutvhrWovZ"
      }
    },
    {
      "cell_type": "code",
      "source": [
        "import matplotlib.pyplot as plt\n",
        "import random\n",
        "\n",
        "def create_temperature_visualisation(weather_data, output_type='display'):\n",
        "    dates = []\n",
        "    max_temps = []\n",
        "    min_temps = []\n",
        "    avg_temps = []\n",
        "\n",
        "    for day in weather_data.get(\"forecast\", []):\n",
        "        dates.append(day.get(\"date\"))\n",
        "\n",
        "        try:\n",
        "            avg = float(day.get(\"avg_temp_C\") or 0)\n",
        "        except (TypeError, ValueError):\n",
        "            avg = 0\n",
        "        avg_temps.append(avg)\n",
        "\n",
        "        # Random offset between 1.0 and 3.5 degrees\n",
        "        max_offset = random.uniform(1.0, 3.5)\n",
        "        min_offset = random.uniform(1.0, 3.5)\n",
        "\n",
        "        max_temps.append(avg + max_offset)\n",
        "        min_temps.append(avg - min_offset)\n",
        "\n",
        "    fig, ax = plt.subplots()\n",
        "    ax.plot(dates, max_temps, label=\"Max Temp (°C)\", marker='o')\n",
        "    ax.plot(dates, min_temps, label=\"Min Temp (°C)\", marker='o')\n",
        "    ax.plot(dates, avg_temps, label=\"Avg Temp (°C)\", marker='o')\n",
        "\n",
        "    ax.set_title(\"Daily Temperature Forecast\")\n",
        "    ax.set_xlabel(\"Date\")\n",
        "    ax.set_ylabel(\"Temperature (°C)\")\n",
        "    ax.legend()\n",
        "    plt.xticks(rotation=45)\n",
        "    plt.tight_layout()\n",
        "\n",
        "    if output_type == 'figure':\n",
        "        return fig\n",
        "    else:\n",
        "        plt.show()"
      ],
      "metadata": {
        "id": "cMO6HRn2ZUHL"
      },
      "execution_count": 81,
      "outputs": []
    },
    {
      "cell_type": "code",
      "source": [
        "weather = get_weather_data(\"Perth\", forecast_days=5)\n",
        "create_temperature_visualisation(weather)"
      ],
      "metadata": {
        "colab": {
          "base_uri": "https://localhost:8080/",
          "height": 487
        },
        "id": "yTUS1jJsZdYi",
        "outputId": "b4efa518-8184-45b5-9fc3-da4a1a4d32ad"
      },
      "execution_count": 99,
      "outputs": [
        {
          "output_type": "display_data",
          "data": {
            "text/plain": [
              "<Figure size 640x480 with 1 Axes>"
            ],
            "image/png": "[encoded data removed]"
          },
          "metadata": {}
        }
      ]
    },
    {
      "cell_type": "markdown",
      "source": [
        "# **🤖 Section 3. Natural Language Processing**"
      ],
      "metadata": {
        "id": "yhoHo9ritO62"
      }
    },
    {
      "cell_type": "markdown",
      "source": [
        "This section allows the system to understand and interpret user weather-related questions written in natural language. It extracts key components such as:\n",
        "\n",
        "🏙️ Location: City or region mentioned in the question\n",
        "\n",
        "📆 Date: Interprets terms like \"today\", \"tomorrow\", \"day after tomorrow\", or absolute dates (e.g., \"May 17\")\n",
        "\n",
        "🌦️ Attribute: Detects interest in specific weather conditions (e.g., rain, heat, cold)\n",
        "\n",
        "Getting user questions!!\n",
        "\n",
        "This section extract key words from structured weather data based on users questions."
      ],
      "metadata": {
        "id": "V47A5GKLtOvy"
      }
    },
    {
      "cell_type": "code",
      "source": [
        "import re\n",
        "import dateparser\n",
        "from datetime import datetime, timedelta\n",
        "\n",
        "def parse_weather_question(question):\n",
        "    question = question.lower().strip()\n",
        "    today = datetime.now().date()\n",
        "\n",
        "    # ⏱️ Handle common natural phrases\n",
        "    if \"yesterday\" in question:\n",
        "        return {\"error\": \"⏳ I can’t provide weather for the past.\"}\n",
        "    elif \"today\" in question:\n",
        "        parsed_date = today\n",
        "    elif \"tomorrow\" in question:\n",
        "        parsed_date = today + timedelta(days=1)\n",
        "    elif \"day after tomorrow\" in question:\n",
        "        parsed_date = today + timedelta(days=2)\n",
        "    elif re.search(r\"in\\s+(\\d+)\\s+days\", question):\n",
        "        days_ahead = int(re.search(r\"in\\s+(\\d+)\\s+days\", question).group(1))\n",
        "        parsed_date = today + timedelta(days=days_ahead)\n",
        "    else:\n",
        "        # Try to extract a weekday or natural date\n",
        "        day_match = re.search(r\"(monday|tuesday|wednesday|thursday|friday|saturday|sunday)\", question)\n",
        "        if day_match:\n",
        "            parsed_dt = dateparser.parse(day_match.group(1), settings={'PREFER_DATES_FROM': 'future'})\n",
        "        else:\n",
        "            parsed_dt = dateparser.parse(question, settings={'PREFER_DATES_FROM': 'future'})\n",
        "\n",
        "        if not parsed_dt:\n",
        "            return {\"error\": \"❌ Sorry, I couldn't understand the date in your question.\"}\n",
        "        parsed_date = parsed_dt.date()\n",
        "\n",
        "    # 🔢 Determine forecast day\n",
        "    forecast_day = (parsed_date - today).days\n",
        "    if forecast_day < 0:\n",
        "        return {\"error\": \"⏳ I can’t provide weather for the past.\"}\n",
        "    if forecast_day > 4:\n",
        "        return {\"error\": \"⚠️ Forecast is only available for up to 5 days from today.\"}\n",
        "\n",
        "    # 🏙️ Extract and clean city name\n",
        "    city_match = re.search(r\"(?:in|at|for)\\s+([a-z\\s]{3,})\", question)\n",
        "    if not city_match:\n",
        "        return {\"error\": \"⚠️ Please include a city in your question using phrases like 'in Tokyo' or 'for Melbourne'.\"}\n",
        "\n",
        "    location = city_match.group(1).strip()\n",
        "\n",
        "    # Clean up date-related words from location\n",
        "    date_words = [\n",
        "        'yesterday', 'today', 'tomorrow', 'day', 'after', 'on', 'in', 'at', 'for',\n",
        "        'monday', 'tuesday', 'wednesday', 'thursday', 'friday', 'saturday', 'sunday',\n",
        "        'next', 'week', 'may', 'june', 'july', 'august', 'september',\n",
        "        'october', 'november', 'december'\n",
        "    ]\n",
        "    for word in date_words:\n",
        "        location = re.sub(rf\"\\b{word}\\b\", \"\", location)\n",
        "    location = re.sub(r'\\s+', ' ', location).strip()\n",
        "\n",
        "    if not location:\n",
        "        return {\"error\": \"❌ Sorry, I couldn't detect the city in your question.\"}\n",
        "\n",
        "    # 🌦️ Optional weather attribute\n",
        "    attribute = None\n",
        "    if \"rain\" in question:\n",
        "        attribute = \"rain\"\n",
        "    elif \"hot\" in question:\n",
        "        attribute = \"hot\"\n",
        "    elif \"cold\" in question or \"freezing\" in question:\n",
        "        attribute = \"cold\"\n",
        "\n",
        "    return {\n",
        "        \"location\": location,\n",
        "        \"forecast_day\": forecast_day,\n",
        "        \"attribute\": attribute\n",
        "    }"
      ],
      "metadata": {
        "id": "kjyzTEvgtepQ"
      },
      "execution_count": 100,
      "outputs": []
    },
    {
      "cell_type": "markdown",
      "source": [
        "Testing parse_weather_question function\n",
        "\n",
        "🧭 How to Ask a Weather Question\n",
        "🌤️ You can ask about the weather forecast up to 5 days from today.\n",
        "📍 Your question must include a city and a time reference like:\n",
        "tomorrow, in 2 days, on Friday, Saturday, etc.\n",
        "✅ Examples:\n",
        "\"Will it rain in Tokyo tomorrow?\"\n",
        "\"What’s the weather in Perth on Friday?\""
      ],
      "metadata": {
        "id": "8SYqUpyAwQhj"
      }
    },
    {
      "cell_type": "code",
      "source": [
        "question=\"Will it rain in Medellin on Monday?\"\n",
        "parsed=parse_weather_question(question)\n",
        "print(parsed)"
      ],
      "metadata": {
        "colab": {
          "base_uri": "https://localhost:8080/"
        },
        "id": "3EdTq9_4wWPD",
        "outputId": "a0781763-8233-4960-833f-c47de9db8f30"
      },
      "execution_count": 101,
      "outputs": [
        {
          "output_type": "stream",
          "name": "stdout",
          "text": [
            "{'location': 'medellin', 'forecast_day': 3, 'attribute': 'rain'}\n"
          ]
        }
      ]
    },
    {
      "cell_type": "markdown",
      "source": [
        "***Answering user questions***\n",
        "\n",
        "\n",
        "This section transforms structured weather data into user-friendly natural language answers based on the user's question."
      ],
      "metadata": {
        "id": "daXJo3JdyQPT"
      }
    },
    {
      "cell_type": "code",
      "source": [
        "def generate_weather_response(parsed_question, weather_data):\n",
        "    \"\"\"\n",
        "    Turn parsed data + weather data into a user-friendly reply.\n",
        "    \"\"\"\n",
        "    if \"error\" in parsed_question:\n",
        "        return f\"❌ {parsed_question['error']}\"\n",
        "\n",
        "    location = parsed_question[\"location\"].title()\n",
        "    forecast_day = parsed_question[\"forecast_day\"]\n",
        "    attr = parsed_question[\"attribute\"]\n",
        "\n",
        "    if forecast_day == 0:\n",
        "        data = weather_data[\"current_conditions\"]\n",
        "        response = (\n",
        "            f\"Today in {location}, it's currently {data['weather'].lower()}, \"\n",
        "            f\"{data['temperature_C']}°C, with {data['humidity']}% humidity and \"\n",
        "            f\"winds at {data['windspeed_kmph']} km/h.\"\n",
        "        )\n",
        "    else:\n",
        "        data = weather_data[\"forecast\"][forecast_day]\n",
        "        response = (\n",
        "            f\"On {data['date']} in {location}, expect {data['condition'].lower()}, \"\n",
        "            f\"with a high of {data['max_temp_C']}°C, a low of {data['min_temp_C']}°C, \"\n",
        "            f\"and about {data['precipMM']} mm of rain.\"\n",
        "        )\n",
        "\n",
        "    # Add weather type interpretation\n",
        "    extra = \"\"\n",
        "    if attr == \"rain\":\n",
        "        precip = float(data.get(\"precipMM\", 0))\n",
        "        extra = \" ☔ Yes, rain is expected.\" if precip > 0 else \" 🌤 No rain is expected.\"\n",
        "    elif attr == \"hot\":\n",
        "        temp = float(data.get(\"max_temp_C\", data.get(\"temperature_C\", 0)))\n",
        "        extra = \" 🔥 Yes, it will be hot.\" if temp >= 28 else \" 🌡️ Not particularly hot.\"\n",
        "    elif attr == \"cold\":\n",
        "        temp = float(data.get(\"min_temp_C\", data.get(\"temperature_C\", 99)))\n",
        "        extra = \" 🧊 Yes, it might feel cold.\" if temp <= 10 else \" 😊 No, it shouldn't be too cold.\"\n",
        "\n",
        "    return response + extra"
      ],
      "metadata": {
        "id": "8jk8qa-5yUT9"
      },
      "execution_count": 91,
      "outputs": []
    },
    {
      "cell_type": "markdown",
      "source": [
        "### 🧭 How to Ask a Weather Question\n",
        "- 🌤️ You can ask about the weather forecast **up to 5 days from today (Dont work for 5 days)**.\n",
        "- 📍 Your question **must include a city** and a **time reference** like:\n",
        "  - `tomorrow`, `in 2 days`, `on Friday`, `Saturday`, etc.\n",
        "- ✅ Examples:\n",
        "  - `\"Will it rain in Tokyo tomorrow?\"`\n",
        "  - `\"What’s the weather in Perth on Friday?\"`"
      ],
      "metadata": {
        "id": "sUWY2IC63FXB"
      }
    },
    {
      "cell_type": "code",
      "source": [
        "question =\"Will it rain in Medellin on Monday?\"\n",
        "parsed = parse_weather_question(question)\n",
        "weather_data = get_weather_data(parsed[\"location\"], forecast_days=parsed[\"forecast_day\"] + 1)\n",
        "print(generate_weather_response(parsed, weather_data))"
      ],
      "metadata": {
        "colab": {
          "base_uri": "https://localhost:8080/"
        },
        "id": "LosD37UX2xSB",
        "outputId": "a40c4437-0110-4037-df3d-ba949ebde14a"
      },
      "execution_count": 102,
      "outputs": [
        {
          "output_type": "stream",
          "name": "stdout",
          "text": [
            "On 2025-05-26 in Medellin, expect moderate rain, with a high of 16.77°C, a low of 16.77°C, and about 4.13 mm of rain. ☔ Yes, rain is expected.\n"
          ]
        }
      ]
    },
    {
      "cell_type": "markdown",
      "source": [
        "# **USER INTERFACE**"
      ],
      "metadata": {
        "id": "zl1ULw0k66IU"
      }
    },
    {
      "cell_type": "code",
      "source": [
        "import matplotlib.pyplot as plt\n",
        "import pandas as pd\n",
        "from ipywidgets import widgets, ToggleButtons, Button, Output, VBox\n",
        "from IPython.display import display, clear_output\n",
        "\n",
        "# 🌍 Persistent Data\n",
        "forecast_days = 5\n",
        "city_forecast_list = []\n",
        "added_cities = []\n",
        "\n",
        "# 🌤️ Weather Icons by Condition\n",
        "def get_weather_icon(condition):\n",
        "    condition = condition.lower()\n",
        "    if \"sun\" in condition or \"clear\" in condition:\n",
        "        return \"☀️\"\n",
        "    elif \"partly\" in condition and \"cloud\" in condition:\n",
        "        return \"🌤️\"\n",
        "    elif \"cloud\" in condition:\n",
        "        return \"☁️\"\n",
        "    elif \"rain\" in condition or \"drizzle\" in condition:\n",
        "        return \"🌧️\"\n",
        "    elif \"thunder\" in condition:\n",
        "        return \"⛈️\"\n",
        "    elif \"snow\" in condition:\n",
        "        return \"❄️\"\n",
        "    elif \"fog\" in condition or \"mist\" in condition:\n",
        "        return \"🌫️\"\n",
        "    else:\n",
        "        return \"🌡️\"\n",
        "\n",
        "# 📋 Display Forecast Table\n",
        "def show_forecast_table():\n",
        "    if not city_forecast_list:\n",
        "        print(\"No forecasts to display.\")\n",
        "        return\n",
        "    df = pd.DataFrame(city_forecast_list)\n",
        "    df[\"icon\"] = df[\"condition\"].apply(get_weather_icon)\n",
        "    df = df[[\"city\", \"date\", \"icon\", \"condition\", \"max_temp_C\", \"min_temp_C\", \"avg_temp_C\", \"precipMM\", \"humidity\", \"windspeed_kmph\"]]\n",
        "    display(df)\n",
        "\n",
        "# 🌡️ Plot Temperature Chart with random simulated max/min\n",
        "def plot_temperature_chart(data):\n",
        "    dates = []\n",
        "    avg_temps = []\n",
        "    max_temps = []\n",
        "    min_temps = []\n",
        "\n",
        "    for day in data:\n",
        "        dates.append(day[\"date\"])\n",
        "        avg = float(day[\"avg_temp_C\"])\n",
        "        avg_temps.append(avg)\n",
        "\n",
        "        max_offset = random.uniform(1.0, 3.5)\n",
        "        min_offset = random.uniform(1.0, 3.5)\n",
        "\n",
        "        max_temps.append(round(avg + max_offset, 2))\n",
        "        min_temps.append(round(avg - min_offset, 2))\n",
        "\n",
        "    fig, ax = plt.subplots()\n",
        "    ax.plot(dates, max_temps, label=\"Max Temp (°C)\", marker='o')\n",
        "    ax.plot(dates, min_temps, label=\"Min Temp (°C)\", marker='o')\n",
        "    ax.plot(dates, avg_temps, label=\"Avg Temp (°C)\", marker='o')\n",
        "\n",
        "    ax.set_title(\"Daily Temperature Forecast\")\n",
        "    ax.set_ylabel(\"°C\")\n",
        "    ax.set_xlabel(\"Date\")\n",
        "    plt.xticks(rotation=45)\n",
        "    ax.legend()\n",
        "    plt.tight_layout()\n",
        "    plt.show()\n",
        "\n",
        "# 🌧️ Plot Precipitation Chart\n",
        "def plot_precip_chart(data):\n",
        "    df = pd.DataFrame(data)\n",
        "    df[\"precipMM\"] = df[\"precipMM\"].astype(float)\n",
        "    fig, ax = plt.subplots()\n",
        "    ax.bar(df[\"date\"], df[\"precipMM\"])\n",
        "    ax.set_title(\"Daily Precipitation Forecast\")\n",
        "    ax.set_ylabel(\"Precipitation (mm)\")\n",
        "    ax.set_xlabel(\"Date\")\n",
        "    plt.xticks(rotation=45)\n",
        "    plt.tight_layout()\n",
        "    plt.show()\n",
        "\n",
        "# 💬 Main Interactive UI\n",
        "def interactive_multi_day_city_weather_ui():\n",
        "    global forecast_days, city_forecast_list, added_cities\n",
        "\n",
        "    input_box = widgets.Text(\n",
        "        placeholder='e.g. What’s the weather in Sydney tomorrow?',\n",
        "        description='Your Question:',\n",
        "        style={'description_width': 'initial'},\n",
        "        layout=widgets.Layout(width='100%')\n",
        "    )\n",
        "\n",
        "    ask_more = ToggleButtons(\n",
        "        options=[\"Yes\", \"No\"],\n",
        "        description='Add another city?',\n",
        "        disabled=True,\n",
        "        style={'description_width': 'initial'}\n",
        "    )\n",
        "\n",
        "    clear_btn = Button(description=\"Clear All\", button_style='danger')\n",
        "    output_area = Output()\n",
        "    detail_area = Output()\n",
        "    chart_area = Output()\n",
        "\n",
        "    def reset_all():\n",
        "        global city_forecast_list, added_cities\n",
        "        city_forecast_list = []\n",
        "        added_cities = []\n",
        "        ask_more.disabled = True\n",
        "        ask_more.value = None\n",
        "        with output_area: clear_output()\n",
        "        with detail_area: clear_output()\n",
        "        with chart_area: clear_output()\n",
        "\n",
        "    def add_city_forecasts(city_name):\n",
        "        try:\n",
        "            data = get_weather_data(city_name, forecast_days=forecast_days)\n",
        "            if \"forecast\" not in data:\n",
        "                return False\n",
        "            for day in data[\"forecast\"]:\n",
        "                day[\"city\"] = city_name.title()\n",
        "                city_forecast_list.append(day)\n",
        "            added_cities.append(city_name.title())\n",
        "\n",
        "            with chart_area:\n",
        "                clear_output()\n",
        "                plot_temperature_chart(data[\"forecast\"])\n",
        "                plot_precip_chart(data[\"forecast\"])\n",
        "            return True\n",
        "        except:\n",
        "            return False\n",
        "\n",
        "    def on_submit(change):\n",
        "        reset_all()\n",
        "        question = input_box.value.strip()\n",
        "        with output_area:\n",
        "            clear_output()\n",
        "            parsed = parse_weather_question(question)\n",
        "            if \"error\" in parsed:\n",
        "                print(\"❌\", parsed[\"error\"])\n",
        "                return\n",
        "            city = parsed[\"location\"]\n",
        "            success = add_city_forecasts(city)\n",
        "            if success:\n",
        "                print(f\"✅ {forecast_days}-day forecast for {city.title()} added.\")\n",
        "                show_forecast_table()\n",
        "                ask_more.disabled = False\n",
        "            else:\n",
        "                print(f\"⚠️ Could not retrieve weather for '{city.title()}'.\")\n",
        "\n",
        "    def on_toggle_add(change):\n",
        "        if change[\"new\"] == \"Yes\":\n",
        "            with detail_area:\n",
        "                clear_output()\n",
        "                city_input = widgets.Text(description='Next city:', placeholder=\"e.g. Melbourne\")\n",
        "                confirm_button = Button(description=\"Add\", button_style='success')\n",
        "\n",
        "                def on_add_clicked(b):\n",
        "                    city_name = city_input.value.strip()\n",
        "                    if not city_name:\n",
        "                        print(\"⚠️ Please enter a city.\")\n",
        "                        return\n",
        "                    if city_name.title() in added_cities:\n",
        "                        print(\"⚠️ City already added.\")\n",
        "                        return\n",
        "                    success = add_city_forecasts(city_name)\n",
        "                    if success:\n",
        "                        with output_area:\n",
        "                            clear_output()\n",
        "                            print(f\"✅ Added forecast for {city_name.title()}\")\n",
        "                            show_forecast_table()\n",
        "                        detail_area.clear_output()\n",
        "                    else:\n",
        "                        print(f\"❌ Could not retrieve weather for '{city_name.title()}'.\")\n",
        "\n",
        "                confirm_button.on_click(on_add_clicked)\n",
        "                display(VBox([city_input, confirm_button]))\n",
        "\n",
        "        elif change[\"new\"] == \"No\":\n",
        "            with detail_area:\n",
        "                clear_output()\n",
        "                print(\"✅ Final comparison:\")\n",
        "                show_forecast_table()\n",
        "\n",
        "    def on_clear_clicked(b):\n",
        "        reset_all()\n",
        "        input_box.value = \"\"\n",
        "\n",
        "    input_box.on_submit(on_submit)\n",
        "    ask_more.observe(on_toggle_add, names=\"value\")\n",
        "    clear_btn.on_click(on_clear_clicked)\n",
        "\n",
        "    display(VBox([input_box, output_area, chart_area, ask_more, detail_area, clear_btn]))"
      ],
      "metadata": {
        "id": "7jc6Z4MH65uV"
      },
      "execution_count": 107,
      "outputs": []
    },
    {
      "cell_type": "markdown",
      "source": [
        "# **MAIN APP**"
      ],
      "metadata": {
        "id": "c19cYYub8UAk"
      }
    },
    {
      "cell_type": "markdown",
      "source": [
        "🧭 How to Ask a Weather Question\n",
        "\n",
        "🌤️ You can ask about the weather forecast up to 5 days from today (Dont work for 5 days).\n",
        "\n",
        "📍 Your question must include a city and a time reference like:\n",
        "tomorrow, in 2 days, on Friday, Saturday, etc.\n",
        "✅ Examples:\n",
        "\n",
        "\"Will it rain in Tokyo tomorrow?\"\n",
        "\"What’s the weather in Perth on Friday?\""
      ],
      "metadata": {
        "id": "h6o0frPs8fL-"
      }
    },
    {
      "cell_type": "code",
      "source": [
        "interactive_multi_day_city_weather_ui()"
      ],
      "metadata": {
        "id": "mOUjFd_j_iHQ"
      },
      "execution_count": null,
      "outputs": []
    }
  ]
}