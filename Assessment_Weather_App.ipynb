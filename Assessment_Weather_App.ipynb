{
  "nbformat": 4,
  "nbformat_minor": 0,
  "metadata": {
    "colab": {
      "provenance": [],
      "include_colab_link": true
    },
    "kernelspec": {
      "name": "python3",
      "display_name": "Python 3"
    },
    "language_info": {
      "name": "python"
    }
  },
  "cells": [
    {
      "cell_type": "markdown",
      "metadata": {
        "id": "view-in-github",
        "colab_type": "text"
      },
      "source": [
        "<a href=\"https://colab.research.google.com/github/Carlosmario90/ISYS5002_Assesments/blob/main/Assessment_Weather_App.ipynb\" target=\"_parent\"><img src=\"https://colab.research.google.com/assets/colab-badge.svg\" alt=\"Open In Colab\"/></a>"
      ]
    },
    {
      "cell_type": "markdown",
      "source": [
        "# 📦 Setup and Configuration\n",
        "\n",
        "Import required packages and setup environment."
      ],
      "metadata": {
        "id": "fYJFml6pLVOZ"
      }
    },
    {
      "cell_type": "code",
      "source": [
        "\n",
        "!pip install pyinputplus\n",
        "import matplotlib.pyplot as plt\n",
        "import pyinputplus as pyip\n",
        "import pytz\n",
        "!pip install ipywidgets pandas matplotlib\n",
        "\n",
        "!pip install fetch-my-weather\n",
        "import fetch_my_weather\n",
        "from fetch_my_weather import get_weather\n",
        "\n",
        "!pip install hands-on-ai\n",
        "from hands_on_ai.chat import get_response\n",
        "import requests\n",
        "\n",
        "!pip install dateparser\n",
        "import dateparser\n",
        "import re\n",
        "from datetime import datetime, timedelta\n",
        "\n",
        "# Set your timezone — change 'Australia/Perth' or 'Australia/Sydney' as needed\n",
        "local_tz = pytz.timezone('Australia/Perth')\n",
        "today = datetime.now(local_tz).date()\n",
        "\n",
        "!pip install ipywidgets\n",
        "from ipywidgets import widgets, VBox, HBox, Output, Button, ToggleButtons, Layout, Label, HTML\n",
        "from IPython.display import display, clear_output\n",
        "import pandas as pd\n",
        "import matplotlib.pyplot as plt\n",
        "\n",
        "\n"
      ],
      "metadata": {
        "id": "d54dK6MXLW1n"
      },
      "execution_count": null,
      "outputs": []
    },
    {
      "cell_type": "markdown",
      "source": [
        "# Section 1 - 🌤️ Weather Data Functions"
      ],
      "metadata": {
        "id": "qf2KbH3wL83a"
      }
    },
    {
      "cell_type": "markdown",
      "source": [
        "This section handles the retrieval and processing of weather data for a given location.\n",
        "\n",
        "The function extracts:\n",
        "\n",
        "📍 Current weather conditions (temperature, humidity, windspeed)\n",
        "\n",
        "📆 Multi-day forecast including temperature ranges, precipitation, sunrise/sunset, and others"
      ],
      "metadata": {
        "id": "sk8fsH9iQ1P0"
      }
    },
    {
      "cell_type": "code",
      "source": [
        "def get_weather_data(location, forecast_days):\n",
        "    data = fetch_my_weather.get_weather(location=location, format=\"raw_json\")\n",
        "\n",
        "    current = data.get(\"current_condition\", [{}])[0]\n",
        "    raw_forecast = data.get(\"weather\", [])\n",
        "\n",
        "    if len(raw_forecast) < forecast_days:\n",
        "        print(f\"⚠️ Only {len(raw_forecast)} days of forecast data are available (not {forecast_days}).\")\n",
        "\n",
        "    forecast = raw_forecast[:forecast_days]\n",
        "\n",
        "    return {\n",
        "        \"location\": location,\n",
        "        \"current_conditions\": {\n",
        "            \"temperature_C\": current.get(\"temp_C\"),\n",
        "            \"humidity\": current.get(\"humidity\"),\n",
        "            \"windspeed_kmph\": current.get(\"windspeedKmph\"),\n",
        "            \"weather\": current[\"weatherDesc\"][0][\"value\"]\n",
        "        },\n",
        "        \"forecast\": [\n",
        "            {\n",
        "                \"date\": day.get(\"date\"),\n",
        "                \"max_temp_C\": day.get(\"maxtempC\"),\n",
        "                \"min_temp_C\": day.get(\"mintempC\"),\n",
        "                \"avg_temp_C\": day.get(\"avgtempC\"),\n",
        "                \"sunrise\": day.get(\"astronomy\", [{}])[0].get(\"sunrise\"),\n",
        "                \"sunset\": day.get(\"astronomy\", [{}])[0].get(\"sunset\"),\n",
        "                \"condition\": day.get(\"hourly\", [{}])[0].get(\"weatherDesc\", [{}])[0].get(\"value\"),\n",
        "                \"humidity\": day.get(\"hourly\", [{}])[0].get(\"humidity\"),\n",
        "                \"windspeed_kmph\": day.get(\"hourly\", [{}])[0].get(\"windspeedKmph\"),\n",
        "                \"precipMM\": sum(float(h.get(\"precipMM\", \"0\") or \"0\") for h in day.get(\"hourly\", []))\n",
        "            }\n",
        "            for day in forecast\n",
        "        ]\n",
        "    }"
      ],
      "metadata": {
        "id": "-qzyjS-tPA2R"
      },
      "execution_count": null,
      "outputs": []
    },
    {
      "cell_type": "markdown",
      "source": [
        "🌤️Testing Weather data functions"
      ],
      "metadata": {
        "id": "tNy2PT9uMEXr"
      }
    },
    {
      "cell_type": "code",
      "source": [
        "weather = get_weather_data(\"Perth\", forecast_days=3)\n",
        "from pprint import pprint\n",
        "pprint(weather)"
      ],
      "metadata": {
        "id": "AxDgdVINPqD9"
      },
      "execution_count": null,
      "outputs": []
    },
    {
      "cell_type": "markdown",
      "source": [
        "# Section 2 -  📊 Visualisation Functions\n"
      ],
      "metadata": {
        "id": "m8z6ggd7ManS"
      }
    },
    {
      "cell_type": "markdown",
      "source": [
        "\n",
        "This section contains functions that generate graphical representations of the weather forecast data. These visualisations help users quickly understand expected weather conditions over multiple days.\n",
        "\n",
        "Included visualisations:\n",
        "\n",
        "🌧 Precipitation: A bar chart displaying the forecasted amount of rainfall (in mm) for each day.\n",
        "\n",
        "🌡 Temperature: A line chart showing minimum, maximum, and average temperatures (°C) for the selected location over the forecast period.\n",
        "\n"
      ],
      "metadata": {
        "id": "IbIaF4ILN5yG"
      }
    },
    {
      "cell_type": "markdown",
      "source": [
        "**Precipitation Chart**"
      ],
      "metadata": {
        "id": "6H2MDImGPlOB"
      }
    },
    {
      "cell_type": "code",
      "source": [
        "\n",
        "def create_precipitation_visualisation(weather_data, output_type='display'):\n",
        "    dates = []\n",
        "    precipitation = []\n",
        "\n",
        "    for day in weather_data.get(\"forecast\", []):\n",
        "        dates.append(day.get(\"date\"))\n",
        "        precip = float(day.get(\"precipMM\", \"0\") or \"0\")\n",
        "        precipitation.append(precip)\n",
        "\n",
        "    print(\"Dates:\", dates)\n",
        "    print(\"Precipitation values:\", precipitation)\n",
        "\n",
        "    if all(p == 0.0 for p in precipitation):\n",
        "        print(\"⚠️ No measurable precipitation in forecast — graph may look blank.\")\n",
        "\n",
        "    fig, ax = plt.subplots()\n",
        "    ax.bar(dates, precipitation)\n",
        "    ax.set_title(\"Daily Precipitation Forecast\")\n",
        "    ax.set_xlabel(\"Date\")\n",
        "    ax.set_ylabel(\"Precipitation (mm)\")\n",
        "    plt.xticks(rotation=45)\n",
        "    plt.tight_layout()\n",
        "\n",
        "    if output_type == 'figure':\n",
        "        return fig\n",
        "    else:\n",
        "        plt.show()"
      ],
      "metadata": {
        "id": "d7mv1cYbV_WC"
      },
      "execution_count": null,
      "outputs": []
    },
    {
      "cell_type": "code",
      "source": [
        "weather = get_weather_data(\"Port Louis\", forecast_days=3)\n",
        "create_precipitation_visualisation(weather)"
      ],
      "metadata": {
        "id": "67Dfvt4WWrjj"
      },
      "execution_count": null,
      "outputs": []
    },
    {
      "cell_type": "markdown",
      "source": [
        "**Temperature Chart**"
      ],
      "metadata": {
        "id": "XW04pipdPfb0"
      }
    },
    {
      "cell_type": "code",
      "source": [
        "  def create_temperature_visualisation(weather_data, output_type='display'):\n",
        "    dates = []\n",
        "    max_temps = []\n",
        "    min_temps = []\n",
        "    avg_temps = []\n",
        "\n",
        "    for day in weather_data.get(\"forecast\", []):\n",
        "        dates.append(day.get(\"date\"))\n",
        "        max_temps.append(float(day.get(\"max_temp_C\", 0)))\n",
        "        min_temps.append(float(day.get(\"min_temp_C\", 0)))\n",
        "        avg_temps.append(float(day.get(\"avg_temp_C\", 0)))\n",
        "\n",
        "    fig, ax = plt.subplots()\n",
        "    ax.plot(dates, max_temps, label=\"Max Temp (°C)\", marker='o')\n",
        "    ax.plot(dates, min_temps, label=\"Min Temp (°C)\", marker='o')\n",
        "    ax.plot(dates, avg_temps, label=\"Avg Temp (°C)\", marker='o')\n",
        "\n",
        "    ax.set_title(\"Daily Temperature Forecast\")\n",
        "    ax.set_xlabel(\"Date\")\n",
        "    ax.set_ylabel(\"Temperature (°C)\")\n",
        "    ax.legend()\n",
        "    plt.xticks(rotation=45)\n",
        "    plt.tight_layout()\n",
        "\n",
        "    if output_type == 'figure':\n",
        "        return fig\n",
        "    else:\n",
        "        plt.show()"
      ],
      "metadata": {
        "id": "ELD_5kBKYgoZ"
      },
      "execution_count": null,
      "outputs": []
    },
    {
      "cell_type": "code",
      "source": [
        "weather = get_weather_data(\"Quibdo\", forecast_days=3)\n",
        "create_temperature_visualisation(weather)"
      ],
      "metadata": {
        "id": "GS49wQrtlEg0"
      },
      "execution_count": null,
      "outputs": []
    },
    {
      "cell_type": "markdown",
      "source": [
        "# **🤖 Section 3. Natural Language Processing**"
      ],
      "metadata": {
        "id": "vhFN-QtDNzks"
      }
    },
    {
      "cell_type": "markdown",
      "source": [
        "This section allows the system to understand and interpret user weather-related questions written in natural language. It extracts key components such as:\n",
        "\n",
        "🏙️ Location: City or region mentioned in the question\n",
        "\n",
        "📆 Date: Interprets terms like \"today\", \"tomorrow\", \"day after tomorrow\", or absolute dates (e.g., \"May 17\")\n",
        "\n",
        "🌦️ Attribute: Detects interest in specific weather conditions (e.g., rain, heat, cold)"
      ],
      "metadata": {
        "id": "yzszQBE7PvWB"
      }
    },
    {
      "cell_type": "markdown",
      "source": [
        "***Getting user questions!!***\n",
        "\n",
        "This section extract key words from structured weather data based on users questions."
      ],
      "metadata": {
        "id": "Kt0osjliTadY"
      }
    },
    {
      "cell_type": "code",
      "source": [
        "def parse_weather_question(question):\n",
        "    question = question.lower().strip()\n",
        "    today = datetime.now().date()\n",
        "\n",
        "    # ⏱️ Handle common natural phrases\n",
        "    if \"yesterday\" in question:\n",
        "        return {\"error\": \"⏳ I can’t provide weather for the past.\"}\n",
        "    elif \"today\" in question:\n",
        "        parsed_date = today\n",
        "    elif \"tomorrow\" in question:\n",
        "        parsed_date = today + timedelta(days=1)\n",
        "    elif \"day after tomorrow\" in question:\n",
        "        parsed_date = today + timedelta(days=2)\n",
        "    elif re.search(r\"in\\s+2\\s+days\", question):\n",
        "        parsed_date = today + timedelta(days=2)\n",
        "    elif re.search(r\"in\\s+3\\s+days\", question):\n",
        "        parsed_date = today + timedelta(days=3)\n",
        "    else:\n",
        "        # Try to extract a weekday manually\n",
        "        day_match = re.search(r\"(monday|tuesday|wednesday|thursday|friday|saturday|sunday)\", question)\n",
        "        if day_match:\n",
        "            parsed_dt = dateparser.parse(day_match.group(1), settings={'PREFER_DATES_FROM': 'future'})\n",
        "        else:\n",
        "            parsed_dt = dateparser.parse(question, settings={'PREFER_DATES_FROM': 'future'})\n",
        "\n",
        "        if not parsed_dt:\n",
        "            return {\"error\": \"❌ Sorry, I couldn't understand the date in your question.\"}\n",
        "        parsed_date = parsed_dt.date()\n",
        "\n",
        "    # 🔢 Determine forecast day\n",
        "    forecast_day = (parsed_date - today).days\n",
        "    if forecast_day < 0:\n",
        "        return {\"error\": \"⏳ I can’t provide weather for the past.\"}\n",
        "    if forecast_day > 2:\n",
        "        return {\"error\": \"⚠️ Only up to 3 days of forecast are supported.\"}\n",
        "\n",
        "    # 🏙️ Extract and clean city name\n",
        "    city_match = re.search(r\"(?:in|at|for)\\s+([a-z\\s]{3,})\", question)\n",
        "    if not city_match:\n",
        "        return {\"error\": \"⚠️ Please include a city in your question using phrases like 'in Tokyo' or 'for Melbourne'.\"}\n",
        "\n",
        "    location = city_match.group(1).strip()\n",
        "\n",
        "    # Clean up date words from location\n",
        "    date_words = [\n",
        "        'yesterday', 'today', 'tomorrow', 'day', 'after', 'on', 'in', 'at', 'for',\n",
        "        'monday', 'tuesday', 'wednesday', 'thursday', 'friday', 'saturday', 'sunday',\n",
        "        'next', 'week', 'may', 'june', 'july', 'august', 'september',\n",
        "        'october', 'november', 'december', '2', '3'\n",
        "    ]\n",
        "    for word in date_words:\n",
        "        location = re.sub(rf\"\\b{word}\\b\", \"\", location)\n",
        "    location = re.sub(r'\\s+', ' ', location).strip()\n",
        "\n",
        "    if not location:\n",
        "        return {\"error\": \"❌ Sorry, I couldn't detect the city in your question.\"}\n",
        "\n",
        "    # 🌦️ Optional weather attribute\n",
        "    attribute = None\n",
        "    if \"rain\" in question:\n",
        "        attribute = \"rain\"\n",
        "    elif \"hot\" in question:\n",
        "        attribute = \"hot\"\n",
        "    elif \"cold\" in question or \"freezing\" in question:\n",
        "        attribute = \"cold\"\n",
        "\n",
        "    return {\n",
        "        \"location\": location,\n",
        "        \"forecast_day\": forecast_day,\n",
        "        \"attribute\": attribute\n",
        "    }"
      ],
      "metadata": {
        "id": "CtmCdW02u_g-"
      },
      "execution_count": null,
      "outputs": []
    },
    {
      "cell_type": "markdown",
      "source": [
        "Testing parse_weather_question function\n",
        "\n"
      ],
      "metadata": {
        "id": "fPnMxzJXSAUr"
      }
    },
    {
      "cell_type": "markdown",
      "source": [
        "### 🧭 How to Ask a Weather Question\n",
        "- 🌤️ You can ask about the weather forecast **up to 3 days from today**.\n",
        "- 📍 Your question **must include a city** and a **time reference** like:\n",
        "  - `tomorrow`, `in 2 days`, `on Friday`, `Saturday`, etc.\n",
        "- ✅ Examples:\n",
        "  - `\"Will it rain in Tokyo tomorrow?\"`\n",
        "  - `\"What’s the weather in Perth on Friday?\"`\n",
        "\n"
      ],
      "metadata": {
        "id": "6qHOiIQxLQRs"
      }
    },
    {
      "cell_type": "code",
      "source": [
        "question=\"Will it rain in Medellin tomorrow?\"\n",
        "parsed=parse_weather_question(question)\n",
        "print(parsed)"
      ],
      "metadata": {
        "id": "WkTc1kVLwV9K"
      },
      "execution_count": null,
      "outputs": []
    },
    {
      "cell_type": "markdown",
      "source": [
        "***Answering user questions***\n",
        "\n",
        "This section transforms structured weather data into user-friendly natural language answers based on the user's question.\n"
      ],
      "metadata": {
        "id": "DypYtnJLSP_x"
      }
    },
    {
      "cell_type": "code",
      "source": [
        "def generate_weather_response(parsed_question, weather_data):\n",
        "    \"\"\"\n",
        "    Turn parsed data + weather data into a user-friendly reply.\n",
        "    \"\"\"\n",
        "    if \"error\" in parsed_question:\n",
        "        return f\"❌ {parsed_question['error']}\"\n",
        "\n",
        "    location = parsed_question[\"location\"].title()\n",
        "    forecast_day = parsed_question[\"forecast_day\"]\n",
        "    attr = parsed_question[\"attribute\"]\n",
        "\n",
        "    if forecast_day == 0:\n",
        "        data = weather_data[\"current_conditions\"]\n",
        "        response = (\n",
        "            f\"Today in {location}, it's currently {data['weather'].lower()}, \"\n",
        "            f\"{data['temperature_C']}°C, with {data['humidity']}% humidity and \"\n",
        "            f\"winds at {data['windspeed_kmph']} km/h.\"\n",
        "        )\n",
        "    else:\n",
        "        data = weather_data[\"forecast\"][forecast_day]\n",
        "        response = (\n",
        "            f\"On {data['date']} in {location}, expect {data['condition'].lower()}, \"\n",
        "            f\"with a high of {data['max_temp_C']}°C, a low of {data['min_temp_C']}°C, \"\n",
        "            f\"and about {data['precipMM']} mm of rain.\"\n",
        "        )\n",
        "\n",
        "    # Add weather type interpretation\n",
        "    extra = \"\"\n",
        "    if attr == \"rain\":\n",
        "        precip = float(data.get(\"precipMM\", 0))\n",
        "        extra = \" ☔ Yes, rain is expected.\" if precip > 0 else \" 🌤 No rain is expected.\"\n",
        "    elif attr == \"hot\":\n",
        "        temp = float(data.get(\"max_temp_C\", data.get(\"temperature_C\", 0)))\n",
        "        extra = \" 🔥 Yes, it will be hot.\" if temp >= 28 else \" 🌡️ Not particularly hot.\"\n",
        "    elif attr == \"cold\":\n",
        "        temp = float(data.get(\"min_temp_C\", data.get(\"temperature_C\", 99)))\n",
        "        extra = \" 🧊 Yes, it might feel cold.\" if temp <= 10 else \" 😊 No, it shouldn't be too cold.\"\n",
        "\n",
        "    return response + extra"
      ],
      "metadata": {
        "id": "iCQK_DWByXem"
      },
      "execution_count": null,
      "outputs": []
    },
    {
      "cell_type": "markdown",
      "source": [
        "### 🧭 How to Ask a Weather Question\n",
        "- 🌤️ You can ask about the weather forecast **up to 3 days from today**.\n",
        "- 📍 Your question **must include a city** and a **time reference** like:\n",
        "  - `tomorrow`, `in 2 days`, `on Friday`, `Saturday`, etc.\n",
        "- ✅ Examples:\n",
        "  - `\"Will it rain in Tokyo tomorrow?\"`\n",
        "  - `\"What’s the weather in Perth on Friday?\"`\n",
        "\n"
      ],
      "metadata": {
        "id": "NN0PZKPg5R85"
      }
    },
    {
      "cell_type": "code",
      "source": [
        "question =\"Will it rain in Medellin tomorrow?\"\n",
        "parsed = parse_weather_question(question)\n",
        "weather_data = get_weather_data(parsed[\"location\"], forecast_days=parsed[\"forecast_day\"] + 1)\n",
        "print(generate_weather_response(parsed, weather_data))"
      ],
      "metadata": {
        "id": "IVbJMMRDybLm"
      },
      "execution_count": null,
      "outputs": []
    },
    {
      "cell_type": "code",
      "source": [
        "# 💃 Datos persistentes\n",
        "forecast_days = 3\n",
        "city_forecast_list = []\n",
        "added_cities = []\n",
        "\n",
        "# 🎨 Iconos según el clima\n",
        "def get_weather_icon(condition):\n",
        "    condition = condition.lower()\n",
        "    if \"sun\" in condition or \"clear\" in condition:\n",
        "        return \"☀️\"\n",
        "    elif \"partly\" in condition and \"cloud\" in condition:\n",
        "        return \"🌤️\"\n",
        "    elif \"cloud\" in condition:\n",
        "        return \"☁️\"\n",
        "    elif \"rain\" in condition or \"drizzle\" in condition:\n",
        "        return \"🌧️\"\n",
        "    elif \"thunder\" in condition:\n",
        "        return \"⛈️\"\n",
        "    elif \"snow\" in condition:\n",
        "        return \"❄️\"\n",
        "    elif \"fog\" in condition or \"mist\" in condition:\n",
        "        return \"🌫️\"\n",
        "    else:\n",
        "        return \"🌡️\"\n",
        "\n",
        "# 📊 Mostrar tabla\n",
        "def show_forecast_table():\n",
        "    if not city_forecast_list:\n",
        "        print(\"No forecasts to display.\")\n",
        "        return\n",
        "    df = pd.DataFrame(city_forecast_list)\n",
        "    df[\"icon\"] = df[\"condition\"].apply(get_weather_icon)\n",
        "    df = df[[\"city\", \"date\", \"icon\", \"condition\", \"max_temp_C\", \"min_temp_C\", \"avg_temp_C\", \"precipMM\", \"humidity\", \"windspeed_kmph\"]]\n",
        "    display(df)\n",
        "\n",
        "# 🌡️ Gráfico de temperaturas\n",
        "def plot_temperature_chart(data):\n",
        "    df = pd.DataFrame(data)\n",
        "    df[\"max_temp_C\"] = df[\"max_temp_C\"].astype(float)\n",
        "    df[\"min_temp_C\"] = df[\"min_temp_C\"].astype(float)\n",
        "    df[\"avg_temp_C\"] = df[\"avg_temp_C\"].astype(float)\n",
        "\n",
        "    fig, ax = plt.subplots()\n",
        "    ax.plot(df[\"date\"], df[\"max_temp_C\"], label=\"Max Temp (°C)\", marker=\"o\")\n",
        "    ax.plot(df[\"date\"], df[\"min_temp_C\"], label=\"Min Temp (°C)\", marker=\"o\")\n",
        "    ax.plot(df[\"date\"], df[\"avg_temp_C\"], label=\"Avg Temp (°C)\", marker=\"o\")\n",
        "\n",
        "    ax.set_title(\"Daily Temperature Forecast\")\n",
        "    ax.set_ylabel(\"°C\")\n",
        "    ax.set_xlabel(\"Date\")\n",
        "    plt.xticks(rotation=45)\n",
        "    ax.legend()\n",
        "    plt.tight_layout()\n",
        "    plt.show()\n",
        "\n",
        "# 🌧️ Gráfico de precipitación\n",
        "def plot_precip_chart(data):\n",
        "    df = pd.DataFrame(data)\n",
        "    df[\"precipMM\"] = df[\"precipMM\"].astype(float)\n",
        "    fig, ax = plt.subplots()\n",
        "    ax.bar(df[\"date\"], df[\"precipMM\"])\n",
        "    ax.set_title(\"Daily Precipitation Forecast\")\n",
        "    ax.set_ylabel(\"Precipitation (mm)\")\n",
        "    ax.set_xlabel(\"Date\")\n",
        "    plt.xticks(rotation=45)\n",
        "    plt.tight_layout()\n",
        "    plt.show()\n",
        "\n",
        "# 🧐 UI principal\n",
        "def interactive_multi_day_city_weather_ui():\n",
        "    global forecast_days, city_forecast_list, added_cities\n",
        "\n",
        "    input_box = widgets.Text(\n",
        "        placeholder='e.g. What’s the weather in Sydney tomorrow?',\n",
        "        description='Your Question:',\n",
        "        style={'description_width': 'initial'},\n",
        "        layout=widgets.Layout(width='100%')\n",
        "    )\n",
        "\n",
        "    ask_more = ToggleButtons(\n",
        "        options=[\"Yes\", \"No\"],\n",
        "        description='Add another city?',\n",
        "        disabled=True,\n",
        "        style={'description_width': 'initial'}\n",
        "    )\n",
        "\n",
        "    clear_btn = Button(description=\"Clear All\", button_style='danger')\n",
        "    output_area = Output()\n",
        "    detail_area = Output()\n",
        "    chart_area = Output()\n",
        "\n",
        "    def reset_all():\n",
        "        global city_forecast_list, added_cities\n",
        "        city_forecast_list = []\n",
        "        added_cities = []\n",
        "        ask_more.disabled = True\n",
        "        ask_more.value = None\n",
        "        with output_area: clear_output()\n",
        "        with detail_area: clear_output()\n",
        "        with chart_area: clear_output()\n",
        "\n",
        "    def add_city_forecasts(city_name):\n",
        "        try:\n",
        "            data = get_weather_data(city_name, forecast_days=forecast_days)\n",
        "            if \"forecast\" not in data:\n",
        "                return False\n",
        "            for day in data[\"forecast\"]:\n",
        "                day[\"city\"] = city_name.title()\n",
        "                city_forecast_list.append(day)\n",
        "            added_cities.append(city_name.title())\n",
        "\n",
        "            with chart_area:\n",
        "                clear_output()\n",
        "                plot_temperature_chart(data[\"forecast\"])\n",
        "                plot_precip_chart(data[\"forecast\"])\n",
        "            return True\n",
        "        except:\n",
        "            return False\n",
        "\n",
        "    def on_submit(change):\n",
        "        reset_all()\n",
        "        question = input_box.value.strip()\n",
        "        with output_area:\n",
        "            clear_output()\n",
        "            parsed = parse_weather_question(question)\n",
        "            if \"error\" in parsed:\n",
        "                print(\"❌\", parsed[\"error\"])\n",
        "                return\n",
        "            city = parsed[\"location\"]\n",
        "            success = add_city_forecasts(city)\n",
        "            if success:\n",
        "                print(f\"✅ {forecast_days}-day forecast for {city.title()} added.\")\n",
        "                show_forecast_table()\n",
        "                ask_more.disabled = False\n",
        "            else:\n",
        "                print(f\"⚠️ Could not retrieve weather for '{city.title()}'.\")\n",
        "\n",
        "    def on_toggle_add(change):\n",
        "        if change[\"new\"] == \"Yes\":\n",
        "            with detail_area:\n",
        "                clear_output()\n",
        "                city_input = widgets.Text(description='Next city:', placeholder=\"e.g. Melbourne\")\n",
        "                confirm_button = Button(description=\"Add\", button_style='success')\n",
        "\n",
        "                def on_add_clicked(b):\n",
        "                    city_name = city_input.value.strip()\n",
        "                    if not city_name:\n",
        "                        print(\"⚠️ Please enter a city.\")\n",
        "                        return\n",
        "                    if city_name.title() in added_cities:\n",
        "                        print(\"⚠️ City already added.\")\n",
        "                        return\n",
        "                    success = add_city_forecasts(city_name)\n",
        "                    if success:\n",
        "                        with output_area:\n",
        "                            clear_output()\n",
        "                            print(f\"✅ Added forecast for {city_name.title()}\")\n",
        "                            show_forecast_table()\n",
        "                        detail_area.clear_output()\n",
        "                    else:\n",
        "                        print(f\"❌ Could not retrieve weather for '{city_name.title()}'.\")\n",
        "\n",
        "                confirm_button.on_click(on_add_clicked)\n",
        "                display(VBox([city_input, confirm_button]))\n",
        "\n",
        "        elif change[\"new\"] == \"No\":\n",
        "            with detail_area:\n",
        "                clear_output()\n",
        "                print(\"✅ Final comparison:\")\n",
        "                show_forecast_table()\n",
        "\n",
        "    def on_clear_clicked(b):\n",
        "        reset_all()\n",
        "        input_box.value = \"\"\n",
        "\n",
        "    input_box.on_submit(on_submit)\n",
        "    ask_more.observe(on_toggle_add, names=\"value\")\n",
        "    clear_btn.on_click(on_clear_clicked)\n",
        "\n",
        "    display(VBox([input_box, output_area, chart_area, ask_more, detail_area, clear_btn]))"
      ],
      "metadata": {
        "id": "7Ep2frv7V_xl"
      },
      "execution_count": null,
      "outputs": []
    },
    {
      "cell_type": "markdown",
      "source": [
        "🧭 **How to Ask a Weather Question**\n",
        "\n",
        "🌤️ You can ask about the weather forecast up to 3 days from today.\n",
        "\n",
        "📍 Your question must include a city and a time reference like:\n",
        "tomorrow, in 2 days, on Friday, Saturday, etc.\n",
        "✅ Examples:\n",
        "\"Will it rain in Tokyo tomorrow?\"\n",
        "\"What’s the weather in Perth on Friday?\""
      ],
      "metadata": {
        "id": "wrqTYsDE60R9"
      }
    },
    {
      "cell_type": "code",
      "source": [
        "interactive_multi_day_city_weather_ui()"
      ],
      "metadata": {
        "id": "bWyyOyLrdIth"
      },
      "execution_count": null,
      "outputs": []
    }
  ]
}